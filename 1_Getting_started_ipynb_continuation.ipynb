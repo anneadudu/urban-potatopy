{
  "cells": [
    {
      "cell_type": "code",
      "execution_count": null,
      "metadata": {
        "colab": {
          "base_uri": "https://localhost:8080/"
        },
        "id": "NzwyK2tDR14a",
        "outputId": "95709d1e-38f4-4c8c-cef5-29b1a2cf5524"
      },
      "outputs": [
        {
          "data": {
            "text/plain": [
              "3"
            ]
          },
          "execution_count": 1,
          "metadata": {},
          "output_type": "execute_result"
        }
      ],
      "source": [
        "skill_list = ['Python', 'SQL', 'Excel']\n",
        "\n",
        "len(skill_list)"
      ]
    },
    {
      "cell_type": "code",
      "execution_count": null,
      "metadata": {
        "colab": {
          "base_uri": "https://localhost:8080/"
        },
        "id": "uSnaAhWWVOOV",
        "outputId": "a4ef5816-a4d7-4e8c-9847-3bd348755cff"
      },
      "outputs": [
        {
          "data": {
            "text/plain": [
              "3"
            ]
          },
          "execution_count": 2,
          "metadata": {},
          "output_type": "execute_result"
        }
      ],
      "source": [
        "count = 0\n",
        "for skill in skill_list:\n",
        "    count += 1\n",
        "\n",
        "count\n"
      ]
    },
    {
      "cell_type": "code",
      "execution_count": null,
      "metadata": {
        "colab": {
          "base_uri": "https://localhost:8080/"
        },
        "id": "7f9GXd6sVhwn",
        "outputId": "95f43848-a980-409d-f50c-69dc795a5ffc"
      },
      "outputs": [
        {
          "name": "stdout",
          "output_type": "stream",
          "text": [
            "3\n"
          ]
        }
      ],
      "source": [
        "count = 0\n",
        "for skill in skill_list:\n",
        "    count += 1\n",
        "\n",
        "print(count)  # This will print the final count after the loop finishes\n"
      ]
    },
    {
      "cell_type": "markdown",
      "metadata": {
        "id": "4Vxpdzr4XjBw"
      },
      "source": [
        "\n",
        "\n",
        "# Functions\n",
        "\n"
      ]
    },
    {
      "cell_type": "markdown",
      "metadata": {
        "id": "Ap4RwQjNX3nD"
      },
      "source": [
        "# Built-in Functions"
      ]
    },
    {
      "cell_type": "code",
      "execution_count": null,
      "metadata": {
        "colab": {
          "base_uri": "https://localhost:8080/"
        },
        "id": "zD--vKuRXpmJ",
        "outputId": "373f3d75-50a0-40ca-877a-a2f5a135ccce"
      },
      "outputs": [
        {
          "name": "stdout",
          "output_type": "stream",
          "text": [
            "['Python', 'SQL', 'Excel']\n"
          ]
        }
      ],
      "source": [
        "print(skill_list)"
      ]
    },
    {
      "cell_type": "code",
      "execution_count": null,
      "metadata": {
        "colab": {
          "base_uri": "https://localhost:8080/"
        },
        "id": "8Bd0MYGsX-fU",
        "outputId": "d87f76ba-6c48-4282-84df-c752f912332d"
      },
      "outputs": [
        {
          "data": {
            "text/plain": [
              "list"
            ]
          },
          "execution_count": 5,
          "metadata": {},
          "output_type": "execute_result"
        }
      ],
      "source": [
        "type(skill_list)"
      ]
    },
    {
      "cell_type": "code",
      "execution_count": null,
      "metadata": {
        "colab": {
          "base_uri": "https://localhost:8080/"
        },
        "id": "k8yk3Vb4YCm7",
        "outputId": "bcd0d8a9-44f7-42c8-b82f-5a73907ede05"
      },
      "outputs": [
        {
          "data": {
            "text/plain": [
              "range(0, 5)"
            ]
          },
          "execution_count": 6,
          "metadata": {},
          "output_type": "execute_result"
        }
      ],
      "source": [
        "range(0,5)"
      ]
    },
    {
      "cell_type": "code",
      "execution_count": null,
      "metadata": {
        "colab": {
          "base_uri": "https://localhost:8080/"
        },
        "id": "ai4rniRwYIuR",
        "outputId": "86cc5210-dc57-415c-b900-dca32706c1b3"
      },
      "outputs": [
        {
          "name": "stdout",
          "output_type": "stream",
          "text": [
            "['__build_class__', '__import__', 'abs', 'aiter', 'all', 'anext', 'any', 'ascii', 'bin', 'breakpoint', 'callable', 'chr', 'compile', 'delattr', 'dir', 'divmod', 'eval', 'exec', 'format', 'getattr', 'globals', 'hasattr', 'hash', 'hex', 'id', 'isinstance', 'issubclass', 'iter', 'len', 'locals', 'max', 'min', 'next', 'oct', 'open', 'ord', 'pow', 'print', 'repr', 'round', 'setattr', 'sorted', 'sum', 'vars']\n"
          ]
        }
      ],
      "source": [
        "import types\n",
        "# list the built-in functions\n",
        "print([func for func in dir(__builtins__) if isinstance(getattr(__builtins__, func), types.BuiltinFunctionType)])"
      ]
    },
    {
      "cell_type": "code",
      "execution_count": null,
      "metadata": {
        "id": "YgIgyGybZNXS"
      },
      "outputs": [],
      "source": [
        "data_salaries = [95000, 100000, 85000, 97000, 140000]"
      ]
    },
    {
      "cell_type": "code",
      "execution_count": null,
      "metadata": {
        "colab": {
          "base_uri": "https://localhost:8080/"
        },
        "id": "3JtPu1eeZhTV",
        "outputId": "5829e6a0-5f36-42c7-9395-5989f837982c"
      },
      "outputs": [
        {
          "data": {
            "text/plain": [
              "85000"
            ]
          },
          "execution_count": 9,
          "metadata": {},
          "output_type": "execute_result"
        }
      ],
      "source": [
        "min(data_salaries)"
      ]
    },
    {
      "cell_type": "code",
      "execution_count": null,
      "metadata": {
        "colab": {
          "base_uri": "https://localhost:8080/"
        },
        "id": "UYbHrBajaL8W",
        "outputId": "6e6abd95-99e4-476e-cfba-b65b18fa2bfc"
      },
      "outputs": [
        {
          "data": {
            "text/plain": [
              "140000"
            ]
          },
          "execution_count": 10,
          "metadata": {},
          "output_type": "execute_result"
        }
      ],
      "source": [
        "max(data_salaries)"
      ]
    },
    {
      "cell_type": "code",
      "execution_count": null,
      "metadata": {
        "colab": {
          "base_uri": "https://localhost:8080/"
        },
        "id": "7edTRaaoaQe2",
        "outputId": "32b3a4a1-9772-4c29-cb78-0b79e7b32828"
      },
      "outputs": [
        {
          "data": {
            "text/plain": [
              "517000"
            ]
          },
          "execution_count": 11,
          "metadata": {},
          "output_type": "execute_result"
        }
      ],
      "source": [
        "sum(data_salaries)"
      ]
    },
    {
      "cell_type": "code",
      "execution_count": null,
      "metadata": {
        "colab": {
          "base_uri": "https://localhost:8080/"
        },
        "id": "EspJFWsOaSvQ",
        "outputId": "2ce7b8cd-7279-426d-c2af-de20c993b6d1"
      },
      "outputs": [
        {
          "data": {
            "text/plain": [
              "[85000, 95000, 97000, 100000, 140000]"
            ]
          },
          "execution_count": 12,
          "metadata": {},
          "output_type": "execute_result"
        }
      ],
      "source": [
        "sorted(data_salaries)"
      ]
    },
    {
      "cell_type": "markdown",
      "metadata": {
        "id": "SiKNuXW3agyF"
      },
      "source": [
        "# User-Defined Functions"
      ]
    },
    {
      "cell_type": "code",
      "execution_count": null,
      "metadata": {
        "colab": {
          "base_uri": "https://localhost:8080/"
        },
        "id": "u4zRNTL2abci",
        "outputId": "2be69ec1-d9c6-401d-d01f-4fada9728544"
      },
      "outputs": [
        {
          "data": {
            "text/plain": [
              "110000.00000000001"
            ]
          },
          "execution_count": 13,
          "metadata": {},
          "output_type": "execute_result"
        }
      ],
      "source": [
        "base_salary = 100000\n",
        "bonus_rate = 0.1\n",
        "\n",
        "total_salary = base_salary * (1 + bonus_rate)\n",
        "\n",
        "total_salary"
      ]
    },
    {
      "cell_type": "code",
      "execution_count": null,
      "metadata": {
        "id": "TX3HMBaea50u"
      },
      "outputs": [],
      "source": [
        "base_salary = 100000\n",
        "bonus_rate = 0.1\n",
        "def calculate_salary(base_salary, bonus_rate):\n",
        "\n",
        "\n",
        "  total_salary = base_salary * (1 + bonus_rate)\n",
        "  # pass\n",
        "  return total_salary"
      ]
    },
    {
      "cell_type": "code",
      "execution_count": null,
      "metadata": {
        "colab": {
          "base_uri": "https://localhost:8080/"
        },
        "id": "yiHykkXybNIy",
        "outputId": "a8314244-5dab-480b-bfed-b01d188ed08e"
      },
      "outputs": [
        {
          "data": {
            "text/plain": [
              "110000.00000000001"
            ]
          },
          "execution_count": 15,
          "metadata": {},
          "output_type": "execute_result"
        }
      ],
      "source": [
        "calculate_salary(base_salary, bonus_rate)"
      ]
    },
    {
      "cell_type": "code",
      "execution_count": null,
      "metadata": {
        "colab": {
          "base_uri": "https://localhost:8080/"
        },
        "id": "AfeMVoJucDrS",
        "outputId": "ab7c30f3-1400-49e4-b5b4-5f2adfeb816a"
      },
      "outputs": [
        {
          "data": {
            "text/plain": [
              "187500.0"
            ]
          },
          "execution_count": 16,
          "metadata": {},
          "output_type": "execute_result"
        }
      ],
      "source": [
        "calculate_salary(150000, .25)"
      ]
    },
    {
      "cell_type": "code",
      "execution_count": null,
      "metadata": {
        "colab": {
          "base_uri": "https://localhost:8080/"
        },
        "id": "OneSZa7NdlTN",
        "outputId": "cc964ed2-43d1-4310-eb24-6c7afc86d19c"
      },
      "outputs": [
        {
          "data": {
            "text/plain": [
              "110000.00000000001"
            ]
          },
          "execution_count": 17,
          "metadata": {},
          "output_type": "execute_result"
        }
      ],
      "source": [
        "salary_1 = 100000\n",
        "rate_1 = 0.1\n",
        "\n",
        "calculate_salary(salary_1, rate_1)"
      ]
    },
    {
      "cell_type": "code",
      "execution_count": null,
      "metadata": {
        "id": "OljG1mhNfcF1"
      },
      "outputs": [],
      "source": [
        "# Calculate total_salary of base_salary * (1 + bonus_rate)\n",
        "def calculate_salary(base_salary, bonus_rate=.1):\n",
        "\n",
        "  total_salary = base_salary * (1 + bonus_rate)\n",
        "\n",
        "  return total_salary"
      ]
    },
    {
      "cell_type": "code",
      "execution_count": null,
      "metadata": {
        "colab": {
          "base_uri": "https://localhost:8080/"
        },
        "id": "8gV9zNaQhBQX",
        "outputId": "fbb96cb3-f1b2-4a75-cc01-298ac56ee1ea"
      },
      "outputs": [
        {
          "data": {
            "text/plain": [
              "150000.0"
            ]
          },
          "execution_count": 19,
          "metadata": {},
          "output_type": "execute_result"
        }
      ],
      "source": [
        "salary_1 = 100000\n",
        "rate_1 = 0.5\n",
        "\n",
        "calculate_salary(salary_1, rate_1)"
      ]
    },
    {
      "cell_type": "markdown",
      "metadata": {
        "id": "3K1nUjSokNyw"
      },
      "source": [
        "# Lambda Functions"
      ]
    },
    {
      "cell_type": "code",
      "execution_count": null,
      "metadata": {
        "id": "mKLpfwSIhL6p"
      },
      "outputs": [],
      "source": [
        "null_two = lambda x: x*2"
      ]
    },
    {
      "cell_type": "code",
      "execution_count": null,
      "metadata": {
        "colab": {
          "base_uri": "https://localhost:8080/"
        },
        "id": "EfcfclOjkrEW",
        "outputId": "2a645ba4-87ad-4c24-a4b6-d289e78a3300"
      },
      "outputs": [
        {
          "data": {
            "text/plain": [
              "6"
            ]
          },
          "execution_count": 21,
          "metadata": {},
          "output_type": "execute_result"
        }
      ],
      "source": [
        "null_two(3)"
      ]
    },
    {
      "cell_type": "code",
      "execution_count": null,
      "metadata": {
        "colab": {
          "base_uri": "https://localhost:8080/"
        },
        "id": "lI2qEXjak6PG",
        "outputId": "41455247-c79d-4ff1-c876-46880c72bc9c"
      },
      "outputs": [
        {
          "data": {
            "text/plain": [
              "10"
            ]
          },
          "execution_count": 22,
          "metadata": {},
          "output_type": "execute_result"
        }
      ],
      "source": [
        "(lambda x, y: x*2 + y)(3, 4)"
      ]
    },
    {
      "cell_type": "code",
      "execution_count": null,
      "metadata": {
        "id": "L67SKoRllzJz"
      },
      "outputs": [],
      "source": [
        "salary_list = [100000, 200000, 150000, 120000, 80000, 750000]\n",
        "# Calculate total_salary of base_salary = (1+ bonus_rate)\n",
        "def calculate_salary(base_salary, bonus_rate=.1):\n",
        "\n",
        "  total_salary = base_salary * (1 + bonus_rate)\n",
        "\n",
        "  return total_salary\n",
        "\n",
        "  total_salary_list = [salary for salary in salary_list]\n",
        "\n",
        "  total_salary_list"
      ]
    },
    {
      "cell_type": "code",
      "execution_count": null,
      "metadata": {
        "colab": {
          "base_uri": "https://localhost:8080/"
        },
        "id": "h__vGmnloBt8",
        "outputId": "175ad570-ebf7-4957-f7dd-59902f08cd7e"
      },
      "outputs": [
        {
          "data": {
            "text/plain": [
              "[110000.00000000001,\n",
              " 220000.00000000003,\n",
              " 165000.0,\n",
              " 132000.0,\n",
              " 88000.0,\n",
              " 825000.0000000001]"
            ]
          },
          "execution_count": 24,
          "metadata": {},
          "output_type": "execute_result"
        }
      ],
      "source": [
        "salary_list = [100000, 200000, 150000, 120000, 80000, 750000]\n",
        "\n",
        "# Calculate total_salary of base_salary * (1 + bonus_rate)\n",
        "def calculate_salary(base_salary, bonus_rate=.1):\n",
        "\n",
        "  total_salary = base_salary * (1 + bonus_rate)\n",
        "\n",
        "  return total_salary\n",
        "\n",
        "total_salary_list = [calculate_salary(salary) for salary in salary_list]\n",
        "\n",
        "total_salary_list\n"
      ]
    },
    {
      "cell_type": "code",
      "execution_count": null,
      "metadata": {
        "colab": {
          "base_uri": "https://localhost:8080/"
        },
        "id": "hmcbf2cJtVcC",
        "outputId": "08d16775-acb9-4763-fae6-cbb55a57d657"
      },
      "outputs": [
        {
          "data": {
            "text/plain": [
              "[110000.00000000001,\n",
              " 220000.00000000003,\n",
              " 165000.0,\n",
              " 132000.0,\n",
              " 88000.0,\n",
              " 825000.0000000001]"
            ]
          },
          "execution_count": 25,
          "metadata": {},
          "output_type": "execute_result"
        }
      ],
      "source": [
        "salary_list = [100000, 200000, 150000, 120000, 80000, 750000]\n",
        "\n",
        "# Calculate total_salary of base_salary * (1 + bonus_rate)\n",
        "# def calculate_salary(base_salary, bonus_rate=.1):\n",
        "\n",
        "  # total_salary = base_salary * (1 + bonus_rate)\n",
        "\n",
        "  # return total_salary\n",
        "\n",
        "total_salary_list = [salary * 1.1 for salary in salary_list]\n",
        "\n",
        "total_salary_list"
      ]
    },
    {
      "cell_type": "code",
      "execution_count": null,
      "metadata": {
        "id": "KyCXdwuXtzbU"
      },
      "outputs": [],
      "source": [
        "def eat_string ():\n",
        "  balance_salary = 10000\n",
        "  unbalance_salary = 20000\n",
        "  total_salary = balance_salary + unbalance_salary\n",
        "  return total_salary\n",
        "\n",
        "\n"
      ]
    },
    {
      "cell_type": "code",
      "execution_count": null,
      "metadata": {
        "colab": {
          "base_uri": "https://localhost:8080/"
        },
        "id": "kZPji9cFtzYT",
        "outputId": "1fbc79f5-5cb4-450b-b2fa-69f91fafe868"
      },
      "outputs": [
        {
          "data": {
            "text/plain": [
              "30000"
            ]
          },
          "execution_count": 27,
          "metadata": {},
          "output_type": "execute_result"
        }
      ],
      "source": [
        "eat_string()"
      ]
    },
    {
      "cell_type": "code",
      "execution_count": null,
      "metadata": {
        "id": "RZPIR1QDvxs4"
      },
      "outputs": [],
      "source": [
        "jobs_data = {\n",
        "    \"Data Analyst\": {\n",
        "        \"job_title\": \"Data Analyst\",\n",
        "        \"job_skills\": [\"Python\", \"SQL\", \"Excel\"],\n",
        "        \"remote\": True\n",
        "    },\n",
        "    \"Data Scientist\": {\n",
        "        \"job_title\": \"Data Scientist\",\n",
        "        \"job_skills\": [\"Python\", \"R\", \"Machine Learning\", \"Deep Learning\"],\n",
        "        \"remote\": False\n",
        "    },\n",
        "    \"Machine Learning Engineer\": {\n",
        "        \"job_title\": \"Machine Learning Engineer\",\n",
        "        \"job_skills\": [\"Python\", \"TensorFlow\", \"PyTorch\", \"Scikit-Learn\"],\n",
        "        \"remote\": True\n",
        "    },\n",
        "    \"Data Engineer\": {\n",
        "        \"job_title\": \"Data Engineer\",\n",
        "        \"job_skills\": [\"Python\", \"Apache Spark\", \"Hadoop\", \"SQL\"],\n",
        "        \"remote\": False\n",
        "    },\n",
        "    \"Business Intelligence Analyst\": {\n",
        "        \"job_title\": \"Business Intelligence Analyst\",\n",
        "        \"job_skills\": [\"Python\", \"SQL\", \"Tableau\", \"Power BI\", \"Excel\"],\n",
        "        \"remote\": True\n",
        "    }\n",
        "}\n"
      ]
    },
    {
      "cell_type": "code",
      "execution_count": null,
      "metadata": {
        "colab": {
          "base_uri": "https://localhost:8080/"
        },
        "id": "oPSJq0KxxycT",
        "outputId": "d5a2adce-f077-4778-dd23-66463956b5b8"
      },
      "outputs": [
        {
          "name": "stdout",
          "output_type": "stream",
          "text": [
            "Help on class filter in module builtins:\n",
            "\n",
            "class filter(object)\n",
            " |  filter(function or None, iterable) --> filter object\n",
            " |  \n",
            " |  Return an iterator yielding those items of iterable for which function(item)\n",
            " |  is true. If function is None, return the items that are true.\n",
            " |  \n",
            " |  Methods defined here:\n",
            " |  \n",
            " |  __getattribute__(self, name, /)\n",
            " |      Return getattr(self, name).\n",
            " |  \n",
            " |  __iter__(self, /)\n",
            " |      Implement iter(self).\n",
            " |  \n",
            " |  __next__(self, /)\n",
            " |      Implement next(self).\n",
            " |  \n",
            " |  __reduce__(...)\n",
            " |      Return state information for pickling.\n",
            " |  \n",
            " |  ----------------------------------------------------------------------\n",
            " |  Static methods defined here:\n",
            " |  \n",
            " |  __new__(*args, **kwargs) from builtins.type\n",
            " |      Create and return a new object.  See help(type) for accurate signature.\n",
            "\n"
          ]
        }
      ],
      "source": [
        "help(filter)"
      ]
    },
    {
      "cell_type": "markdown",
      "metadata": {
        "id": "lKiIa54zy4b6"
      },
      "source": []
    },
    {
      "cell_type": "code",
      "execution_count": null,
      "metadata": {
        "colab": {
          "base_uri": "https://localhost:8080/",
          "height": 203
        },
        "id": "3B_Q3eYcx07w",
        "outputId": "6743a264-7146-4bcb-c1bd-8fb97afecc5c"
      },
      "outputs": [
        {
          "ename": "TypeError",
          "evalue": "string indices must be integers",
          "output_type": "error",
          "traceback": [
            "\u001b[0;31m---------------------------------------------------------------------------\u001b[0m",
            "\u001b[0;31mTypeError\u001b[0m                                 Traceback (most recent call last)",
            "\u001b[0;32m<ipython-input-30-c47bc07dafa1>\u001b[0m in \u001b[0;36m<cell line: 1>\u001b[0;34m()\u001b[0m\n\u001b[0;32m----> 1\u001b[0;31m \u001b[0mlist\u001b[0m\u001b[0;34m(\u001b[0m\u001b[0mfilter\u001b[0m\u001b[0;34m(\u001b[0m\u001b[0;32mlambda\u001b[0m \u001b[0mjob\u001b[0m\u001b[0;34m:\u001b[0m \u001b[0mjob\u001b[0m\u001b[0;34m[\u001b[0m\u001b[0;34m'remote'\u001b[0m\u001b[0;34m]\u001b[0m\u001b[0;34m,\u001b[0m \u001b[0mjobs_data\u001b[0m\u001b[0;34m)\u001b[0m\u001b[0;34m)\u001b[0m\u001b[0;34m\u001b[0m\u001b[0;34m\u001b[0m\u001b[0m\n\u001b[0m",
            "\u001b[0;32m<ipython-input-30-c47bc07dafa1>\u001b[0m in \u001b[0;36m<lambda>\u001b[0;34m(job)\u001b[0m\n\u001b[0;32m----> 1\u001b[0;31m \u001b[0mlist\u001b[0m\u001b[0;34m(\u001b[0m\u001b[0mfilter\u001b[0m\u001b[0;34m(\u001b[0m\u001b[0;32mlambda\u001b[0m \u001b[0mjob\u001b[0m\u001b[0;34m:\u001b[0m \u001b[0mjob\u001b[0m\u001b[0;34m[\u001b[0m\u001b[0;34m'remote'\u001b[0m\u001b[0;34m]\u001b[0m\u001b[0;34m,\u001b[0m \u001b[0mjobs_data\u001b[0m\u001b[0;34m)\u001b[0m\u001b[0;34m)\u001b[0m\u001b[0;34m\u001b[0m\u001b[0;34m\u001b[0m\u001b[0m\n\u001b[0m",
            "\u001b[0;31mTypeError\u001b[0m: string indices must be integers"
          ]
        }
      ],
      "source": [
        "list(filter(lambda job: job['remote'], jobs_data))\n"
      ]
    },
    {
      "cell_type": "code",
      "execution_count": null,
      "metadata": {
        "id": "SoY0xDwbzqQa"
      },
      "outputs": [],
      "source": [
        "job_list = list(jobs_data.values())"
      ]
    },
    {
      "cell_type": "code",
      "execution_count": null,
      "metadata": {
        "id": "iQSiAcYE0qNM"
      },
      "outputs": [],
      "source": [
        "list(filter(lambda job: job['remote'], jobs_data))\n"
      ]
    },
    {
      "cell_type": "code",
      "execution_count": null,
      "metadata": {
        "id": "zvpMDBMK27B3"
      },
      "outputs": [],
      "source": [
        "jobs_data = [\n",
        "    {\n",
        "        \"job_title\": \"Data Scientist\",\n",
        "        \"job_skills\": [\"Python\", \"Machine Learning\", \"SQL\", \"Data Visualization\"],\n",
        "        \"remote\": True\n",
        "    },\n",
        "    {\n",
        "        \"job_title\": \"Machine Learning Engineer\",\n",
        "        \"job_skills\": [\"Python\", \"TensorFlow\", \"Keras\", \"SQL\"],\n",
        "        \"remote\": False\n",
        "    },\n",
        "    {\n",
        "        \"job_title\": \"Data Analyst\",\n",
        "        \"job_skills\": [\"SQL\", \"Excel\", \"Tableau\", \"Python\"],\n",
        "        \"remote\": True\n",
        "    },\n",
        "    {\n",
        "        \"job_title\": \"Senior Data Scientist\",\n",
        "        \"job_skills\": [\"Python\", \"Deep Learning\", \"Big Data\", \"Hadoop\"],\n",
        "        \"remote\": False\n",
        "    },\n",
        "    {\n",
        "        \"job_title\": \"Data Engineer\",\n",
        "        \"job_skills\": [\"SQL\", \"ETL\", \"Python\", \"Spark\"],\n",
        "        \"remote\": True\n",
        "    }\n",
        "]\n"
      ]
    },
    {
      "cell_type": "code",
      "execution_count": null,
      "metadata": {
        "id": "vNQMJ2lt3Buw"
      },
      "outputs": [],
      "source": [
        "list(filter(lambda job: job['remote'] and \"Python\" in job['job_skills'], jobs_data))"
      ]
    },
    {
      "cell_type": "code",
      "execution_count": null,
      "metadata": {
        "id": "te5lX41J3Rqy"
      },
      "outputs": [],
      "source": [
        "def car():\n",
        "  print(\"hello\")"
      ]
    },
    {
      "cell_type": "code",
      "execution_count": null,
      "metadata": {
        "id": "nYyDIICJb2nC"
      },
      "outputs": [],
      "source": [
        "car()"
      ]
    },
    {
      "cell_type": "markdown",
      "metadata": {
        "id": "G6OkFcIRcKsY"
      },
      "source": [
        "# Module"
      ]
    },
    {
      "cell_type": "code",
      "execution_count": null,
      "metadata": {
        "id": "kizRzy3BcMk-"
      },
      "outputs": [],
      "source": [
        "import my_module\n",
        "\n",
        "my_module.skill_list"
      ]
    },
    {
      "cell_type": "code",
      "execution_count": null,
      "metadata": {
        "id": "M0k4FnB5eL7L"
      },
      "outputs": [],
      "source": [
        "my_module.skill('Python')"
      ]
    },
    {
      "cell_type": "code",
      "execution_count": null,
      "metadata": {
        "id": "nmCQoKDslEzZ"
      },
      "outputs": [],
      "source": [
        "from job_analyzer import calculate_salary, calculate_bonus\n",
        "calculate_salary(100000)\n",
        "\n",
        "calculate_bonus(110000, 100000)"
      ]
    },
    {
      "cell_type": "code",
      "execution_count": null,
      "metadata": {
        "id": "yJHMK4TZmIpU"
      },
      "outputs": [],
      "source": [
        "help(calculate_salary)"
      ]
    },
    {
      "cell_type": "code",
      "execution_count": null,
      "metadata": {
        "id": "X2O_K9YRmNOH"
      },
      "outputs": [],
      "source": [
        "def mean(*numbers):\n",
        "    return sum(numbers) / len(numbers)\n",
        "\n",
        "# Example usage\n",
        "result = mean(1, 2, 3, 4)\n",
        "print(result)\n",
        "\n"
      ]
    },
    {
      "cell_type": "markdown",
      "metadata": {
        "id": "qIfqLZbAxS0q"
      },
      "source": [
        "# Statistics Module"
      ]
    },
    {
      "cell_type": "code",
      "execution_count": null,
      "metadata": {
        "id": "8BmhiJOmp7I5"
      },
      "outputs": [],
      "source": [
        "salary_list = [98000, 101000, 102000, 99000, 97000]"
      ]
    },
    {
      "cell_type": "code",
      "execution_count": null,
      "metadata": {
        "id": "M8WVPEIxx9w0"
      },
      "outputs": [],
      "source": [
        "import statistics\n",
        "statistics.mean(salary_list)"
      ]
    },
    {
      "cell_type": "code",
      "execution_count": null,
      "metadata": {
        "id": "8zI-94tmyRQf"
      },
      "outputs": [],
      "source": [
        "from statistics import mean, mode, median\n",
        "statistics.mean(salary_list)"
      ]
    },
    {
      "cell_type": "code",
      "execution_count": null,
      "metadata": {
        "id": "ECawPtZzzLZQ"
      },
      "outputs": [],
      "source": [
        "from statistics import *\n",
        "statistics.mean(salary_list)"
      ]
    },
    {
      "cell_type": "code",
      "execution_count": null,
      "metadata": {
        "id": "DcavKVyvz8PG"
      },
      "outputs": [],
      "source": [
        "mode(salary_list)"
      ]
    },
    {
      "cell_type": "code",
      "execution_count": null,
      "metadata": {
        "id": "sdQQrqfSz_Ov"
      },
      "outputs": [],
      "source": [
        "median(salary_list)"
      ]
    },
    {
      "cell_type": "markdown",
      "metadata": {
        "id": "_PwBHC9w4JFX"
      },
      "source": [
        "# Exercise - Data Cleanup\n",
        "\n",
        "Cleanup `list` and `datatime` objects"
      ]
    },
    {
      "cell_type": "code",
      "execution_count": null,
      "metadata": {
        "id": "2zos2I1-0DhS"
      },
      "outputs": [],
      "source": [
        "data_science_jobs = [\n",
        "    {'job_title': 'Data Scientist', 'job_skills': ['Python', 'SQL', 'Machine Learning'], 'job_date': '2023-05-12'},\n",
        "    {'job_title': 'Data Analyst', 'job_skills': ['Excel', 'Power BI', 'SQL'], 'job_date': '2023-06-01'},\n",
        "    {'job_title': 'Machine Learning Engineer', 'job_skills': ['Python', 'TensorFlow', 'Keras'], 'job_date': '2023-04-25'},\n",
        "    {'job_title': 'AI Researcher', 'job_skills': ['Python', 'Deep Learning', 'PyTorch'], 'job_date': '2023-03-15'},\n",
        "    {'job_title': 'Business Intelligence Analyst', 'job_skills': ['Tableau', 'SQL', 'Excel'], 'job_date': '2023-07-10'},\n",
        "    {'job_title': 'Data Engineer', 'job_skills': ['Python', 'Spark', 'AWS'], 'job_date': '2023-08-22'},\n",
        "\n",
        "]\n"
      ]
    },
    {
      "cell_type": "markdown",
      "metadata": {
        "id": "mXz6jXs46QX9"
      },
      "source": [
        "# `datetime`"
      ]
    },
    {
      "cell_type": "code",
      "execution_count": null,
      "metadata": {
        "id": "6l5o4haT6UHG"
      },
      "outputs": [],
      "source": [
        "from datetime import datetime"
      ]
    },
    {
      "cell_type": "code",
      "execution_count": null,
      "metadata": {
        "colab": {
          "base_uri": "https://localhost:8080/"
        },
        "id": "HH9Zw3ts6mFo",
        "outputId": "21057e99-8122-4df4-e35d-621b0ddaf6f1"
      },
      "outputs": [
        {
          "data": {
            "text/plain": [
              "datetime.datetime(2024, 10, 16, 9, 48, 23, 241299)"
            ]
          },
          "execution_count": 34,
          "metadata": {},
          "output_type": "execute_result"
        }
      ],
      "source": [
        "datetime.now()"
      ]
    },
    {
      "cell_type": "code",
      "execution_count": null,
      "metadata": {
        "colab": {
          "base_uri": "https://localhost:8080/",
          "height": 148
        },
        "id": "sMy2NuLF6pg-",
        "outputId": "72c389e6-a8c2-428f-b8ce-49b4f239e6ff"
      },
      "outputs": [
        {
          "ename": "NameError",
          "evalue": "name 'data_science_jobs' is not defined",
          "output_type": "error",
          "traceback": [
            "\u001b[0;31m---------------------------------------------------------------------------\u001b[0m",
            "\u001b[0;31mNameError\u001b[0m                                 Traceback (most recent call last)",
            "\u001b[0;32m<ipython-input-35-8d817570b0df>\u001b[0m in \u001b[0;36m<cell line: 1>\u001b[0;34m()\u001b[0m\n\u001b[0;32m----> 1\u001b[0;31m \u001b[0mtype\u001b[0m\u001b[0;34m(\u001b[0m\u001b[0mdata_science_jobs\u001b[0m\u001b[0;34m[\u001b[0m\u001b[0;36m0\u001b[0m\u001b[0;34m]\u001b[0m\u001b[0;34m[\u001b[0m\u001b[0;34m'job_date'\u001b[0m\u001b[0;34m]\u001b[0m\u001b[0;34m)\u001b[0m\u001b[0;34m\u001b[0m\u001b[0;34m\u001b[0m\u001b[0m\n\u001b[0m",
            "\u001b[0;31mNameError\u001b[0m: name 'data_science_jobs' is not defined"
          ]
        }
      ],
      "source": [
        "type(data_science_jobs[0]['job_date'])"
      ]
    },
    {
      "cell_type": "code",
      "execution_count": null,
      "metadata": {
        "id": "83vl_zhN7o4D"
      },
      "outputs": [],
      "source": [
        "(lambda x,y: x*2 + y)(4, 5)"
      ]
    },
    {
      "cell_type": "code",
      "execution_count": null,
      "metadata": {
        "id": "RjPZ0glwaYh7"
      },
      "outputs": [],
      "source": [
        "balance_diet = 10000\n",
        "unbalance_diet = 20000\n",
        "def eat_string():\n",
        "  total_diet = balance_diet + unbalance_diet\n",
        "  return total_diet\n"
      ]
    },
    {
      "cell_type": "code",
      "execution_count": null,
      "metadata": {
        "id": "JQqGpR5Ga8zC"
      },
      "outputs": [],
      "source": [
        "eat_string()"
      ]
    },
    {
      "cell_type": "code",
      "execution_count": null,
      "metadata": {
        "id": "bJu73hidbAXg"
      },
      "outputs": [],
      "source": [
        "balance_diet = unbalance_diet"
      ]
    },
    {
      "cell_type": "code",
      "execution_count": null,
      "metadata": {
        "id": "D7k78gnDbLmW"
      },
      "outputs": [],
      "source": [
        " balance_diet"
      ]
    },
    {
      "cell_type": "code",
      "execution_count": null,
      "metadata": {
        "id": "pDDNgigUbOSj"
      },
      "outputs": [],
      "source": [
        "balance_diet = \"15000\"\n",
        "unbalance_diet = \"20000\"\n",
        "\n",
        "def eat_string():\n",
        "  for diet in balance_diet:\n",
        "    if balance_diet < unbalance_diet:\n",
        "        print('Great')\n",
        "    else:\n",
        "        total_diet = balance_diet + unbalance_diet\n",
        "        return total_diet\n",
        "\n",
        "# Call the function\n",
        "eat_string()\n"
      ]
    },
    {
      "cell_type": "code",
      "execution_count": null,
      "metadata": {
        "id": "078yMbzKbob8"
      },
      "outputs": [],
      "source": [
        "while 1 + 2:\n",
        "    print('Great')\n"
      ]
    },
    {
      "cell_type": "code",
      "execution_count": null,
      "metadata": {
        "id": "uFZgZxpigLZ_"
      },
      "outputs": [],
      "source": [
        "test_date = data_science_jobs[0]['job_date']"
      ]
    },
    {
      "cell_type": "code",
      "execution_count": null,
      "metadata": {
        "id": "78Wa9AsdgXUt"
      },
      "outputs": [],
      "source": [
        "print(datetime.strptime(test_date, '%Y-%m-%d'))"
      ]
    },
    {
      "cell_type": "code",
      "execution_count": null,
      "metadata": {
        "id": "YjeWlvFBgj-m"
      },
      "outputs": [],
      "source": [
        "for job in data_science_jobs:\n",
        "  job['job_date'] = datetime.strptime(job['job_date'], '%Y-%m-%d')"
      ]
    },
    {
      "cell_type": "code",
      "execution_count": null,
      "metadata": {
        "id": "PAkdGkfRg8Ra"
      },
      "outputs": [],
      "source": [
        "data_science_jobs"
      ]
    },
    {
      "cell_type": "code",
      "execution_count": null,
      "metadata": {
        "id": "iAhGg3kCiaHz"
      },
      "outputs": [],
      "source": [
        "data_science_jobs"
      ]
    },
    {
      "cell_type": "code",
      "execution_count": null,
      "metadata": {
        "id": "OTLwSsPEqEP1"
      },
      "outputs": [],
      "source": [
        "import ast\n",
        "from datetime import datetime\n",
        "\n",
        "for job in data_science_jobs:\n",
        "    # Skip converting if 'job_date' is already a datetime object\n",
        "    if isinstance(job['job_date'], str):\n",
        "        job['job_date'] = datetime.strptime(job['job_date'], '%Y-%m-%d')\n",
        "\n",
        "    # Convert 'job_skills' to a list using ast.literal_eval if it's a string\n",
        "    if isinstance(job['job_skills'], str):\n",
        "        job['job_skills'] = ast.literal_eval(job['job_skills'])\n"
      ]
    },
    {
      "cell_type": "code",
      "execution_count": null,
      "metadata": {
        "id": "J7CG0Y0uqPKo"
      },
      "outputs": [],
      "source": [
        "data_science_jobs"
      ]
    },
    {
      "cell_type": "code",
      "execution_count": null,
      "metadata": {
        "id": "TG6eF9anqPAO"
      },
      "outputs": [],
      "source": [
        "print(\"Welcome to the Hangman Game!\")\n",
        "print(\"Start\")\n",
        "start = input(\"Laptop plugged in? 'Yes or No' \")\n",
        "if start == 'Yes':\n",
        "  print(\"Bulb burned out?\")\n",
        "elif start == 'No':\n",
        "  print(\"Plug in lamp\")\n",
        "out = input(\"Bulb burned out? 'Yes or No' \")\n",
        "if out == 'Yes':\n",
        "  print(\"Replace Bulb\")\n",
        "elif out == 'No':\n",
        "  print(\"Repair lamp\")\n",
        "else:\n",
        "  print(\"Wrong input\")\n"
      ]
    },
    {
      "cell_type": "code",
      "execution_count": null,
      "metadata": {
        "id": "JdK2ZMXee4Zg"
      },
      "outputs": [],
      "source": [
        "import random\n",
        "\n",
        "# Generate a random number between 1 and 50\n",
        "correct_number = random.randint(1, 50)\n",
        "\n",
        "print(\"Welcome to the Number Guessing Game!\")\n",
        "print(\"You have 5 attempts to guess the number between 1 and 50.\")\n",
        "\n",
        "# Set the number of attempts\n",
        "attempts = 5\n",
        "\n",
        "# Loop to allow the player to guess up to 5 times\n",
        "for i in range(attempts):\n",
        "    guess = int(input(\"Enter your guess: \"))\n",
        "\n",
        "    # Check if the guess is correct\n",
        "    if guess == correct_number:\n",
        "        print(\"Congratulations! You've guessed the number.\")\n",
        "        break\n",
        "    # Give feedback if the guess is too high\n",
        "    elif guess > correct_number:\n",
        "        print(\"Too high! Try again.\")\n",
        "    # Give feedback if the guess is too low\n",
        "    else:\n",
        "        print(\"Too low! Try again.\")\n",
        "\n",
        "    # Check if it's the last attempt\n",
        "    if i == attempts - 1:\n",
        "        print(f\"Sorry, you've used all your attempts. The correct number was {correct_number}.\")\n",
        "\n"
      ]
    },
    {
      "cell_type": "code",
      "execution_count": null,
      "metadata": {
        "id": "kgekMi2S3lvn"
      },
      "outputs": [],
      "source": [
        "ceholder"
      ]
    },
    {
      "cell_type": "code",
      "execution_count": null,
      "metadata": {
        "id": "5g3N-z4niqm-"
      },
      "outputs": [],
      "source": [
        "import random\n",
        "\n",
        "lives = 6\n",
        "\n",
        "# List of words\n",
        "word_list = [\"aardvark\", \"baboon\", \"camel\"]\n",
        "\n",
        "# Randomly choose a word from the list\n",
        "chosen_word = random.choice(word_list)\n",
        "\n",
        "# Create a display string initialized with underscores for each letter in the chosen word\n",
        "word_length = len(chosen_word)\n",
        "display = \"_\" * word_length\n",
        "print(display)  # Show initial state of display\n",
        "\n",
        "# Initialize correct guesses and game state\n",
        "game_over = False\n",
        "correct_letters = []\n",
        "guessed_letters = []  # To store already guessed letters\n",
        "\n",
        "# Stages for the hangman (visual representation)\n",
        "stages = [\n",
        "    \"Stage 6: _____\\n |     |\\n O     |\\n/|\\\\    |\\n/ \\\\    |\\n______|\\n\",\n",
        "    \"Stage 5: _____\\n |     |\\n O     |\\n/|\\\\    |\\n/      |\\n______|\\n\",\n",
        "    \"Stage 4: _____\\n |     |\\n O     |\\n/|\\\\    |\\n       |\\n______|\\n\",\n",
        "    \"Stage 3: _____\\n |     |\\n O     |\\n/|     |\\n       |\\n______|\\n\",\n",
        "    \"Stage 2: _____\\n |     |\\n O     |\\n |     |\\n       |\\n______|\\n\",\n",
        "    \"Stage 1: _____\\n |     |\\n O     |\\n       |\\n       |\\n______|\\n\",\n",
        "    \"Stage 0: _____\\n |     |\\n       |\\n       |\\n       |\\n______|\\n\"\n",
        "]\n",
        "\n",
        "# Main game loop\n",
        "while not game_over:\n",
        "    guess = input(\"Guess a letter: \").lower()  # Get user input\n",
        "\n",
        "    # Check if the player has already guessed this letter\n",
        "    if guess in guessed_letters:\n",
        "        print(\"You've already guessed that letter!\")\n",
        "        continue\n",
        "    guessed_letters.append(guess)  # Add the guess to the guessed letters list\n",
        "\n",
        "    # Check if guessed letter is in the chosen word\n",
        "    new_display = \"\"\n",
        "    for letter in chosen_word:\n",
        "        if letter == guess or letter in correct_letters:\n",
        "            new_display += letter\n",
        "        else:\n",
        "            new_display += \"_\"\n",
        "\n",
        "    display = new_display\n",
        "    print(display)\n",
        "\n",
        "    # If the guessed letter was correct, add it to correct letters\n",
        "    if guess in chosen_word:\n",
        "        correct_letters.append(guess)\n",
        "    else:\n",
        "        lives -= 1\n",
        "        print(f\"Incorrect guess! You have {lives} lives left.\")\n",
        "        print(stages[lives])  # Show the current hangman stage\n",
        "\n",
        "    # Check for game over conditions\n",
        "    if \"_\" not in display:\n",
        "        game_over = True\n",
        "        print(\"You win!\")\n",
        "    elif lives == 0:\n",
        "        game_over = True\n",
        "        print(f\"You lose! The word was '{chosen_word}'.\")\n"
      ]
    },
    {
      "cell_type": "code",
      "execution_count": null,
      "metadata": {
        "id": "QHJDk2oi1t92"
      },
      "outputs": [],
      "source": [
        "import random\n",
        "\n",
        "# List of words\n",
        "word_list = [\"aardvark\", \"baboon\", \"camel\"]\n",
        "# Randomly choose a word from the list\n",
        "chosen_word = random.choice(word_list)\n",
        "print(f\"Pssst, the chosen word is {chosen_word}\")  # You can remove this line for the actual game\n",
        "\n",
        "# Create a display string initialized with underscores for each letter in the chosen word\n",
        "display = \"_\" * len(chosen_word)\n",
        "print(display)  # Show initial state of display\n",
        "\n",
        "# Variables to track game state\n",
        "lives = 6  # Player has 6 attempts (1 correct + 5 wrong)\n",
        "correct_letters = []  # To store correctly guessed letters\n",
        "game_over = False  # This will end the loop when set to True\n",
        "\n",
        "# Loop until the game is over\n",
        "while not game_over:\n",
        "    guess = input(\"Guess a letter: \").lower()  # Get user input\n",
        "\n",
        "    # Initialize a new display string for this round\n",
        "    new_display = \"\"\n",
        "\n",
        "    # Check if the guess is in the chosen word\n",
        "    if guess in chosen_word:\n",
        "        print(f\"Correct! The letter '{guess}' is in the word.\")\n",
        "    else:\n",
        "        lives -= 1  # Deduct a life for a wrong guess\n",
        "        print(f\"Wrong guess! You have {lives} lives left.\")\n",
        "\n",
        "    # Loop through each letter in the chosen word to update the display\n",
        "    for index, letter in enumerate(chosen_word):\n",
        "        if letter == guess or letter in correct_letters:\n",
        "            new_display += letter\n",
        "        else:\n",
        "            new_display += \"_\"\n",
        "\n",
        "    correct_letters.append(guess)  # Add guessed letter to the list of correct letters\n",
        "    display = new_display  # Update display with new guesses\n",
        "    print(display)  # Show updated display after each round\n",
        "\n",
        "    # Check if the player has won or lost\n",
        "    if \"_\" not in display:\n",
        "        game_over = True\n",
        "        print(\"You win! 🎉\")\n",
        "    elif lives == 0:\n",
        "        game_over = True\n",
        "        print(f\"You lose! The word was '{chosen_word}'.\")\n",
        "a"
      ]
    },
    {
      "cell_type": "code",
      "execution_count": null,
      "metadata": {
        "id": "8jIqu4ixfyGZ"
      },
      "outputs": [],
      "source": [
        "Name = input(\"What is your name? \")\n",
        "print(\"Welcome \" + Name)"
      ]
    },
    {
      "cell_type": "code",
      "execution_count": null,
      "metadata": {
        "id": "wViUjldAiCSy"
      },
      "outputs": [],
      "source": [
        "class Person:\n",
        "    def __init__(self, Name):\n",
        "        self.Name = Name\n",
        "\n",
        "    def greet(self):\n",
        "        print(\"Welcome \" + self.Name)\n",
        "\n",
        "# Create an instance of the Person class\n",
        "person1 = Person(\"Anne\")\n",
        "person1.greet()  # This will print \"Welcome Anne\"\n"
      ]
    },
    {
      "cell_type": "code",
      "execution_count": null,
      "metadata": {
        "id": "RjZnJb2PijcB"
      },
      "outputs": [],
      "source": [
        "def greet(name):\n",
        "  print(\"Hello \" + name)\n",
        "  print(\"How do you do \" + name)\n",
        "\n",
        "greet(\"Anne\")\n"
      ]
    },
    {
      "cell_type": "code",
      "execution_count": null,
      "metadata": {
        "id": "HQzuhWRek-9n"
      },
      "outputs": [],
      "source": [
        "def life_in_weeks():\n",
        "    age = int(input(\"What is your current age? \"))\n",
        "    years_left = 90 - age\n",
        "    weeks_left = years_left * 52\n",
        "    print(f\"You have {weeks_left} weeks left.\")\n",
        "\n",
        "life_in_weeks()\n"
      ]
    },
    {
      "cell_type": "code",
      "execution_count": null,
      "metadata": {
        "id": "1rHWv_jRoRCA"
      },
      "outputs": [],
      "source": [
        "def greet( name, location):\n",
        "  print(f\"This is my name, {name} and my desired location, {location}\")\n",
        "greet(\"Anne\", \"Germany\")"
      ]
    },
    {
      "cell_type": "code",
      "execution_count": null,
      "metadata": {
        "id": "0rxk-Zcorhxt"
      },
      "outputs": [],
      "source": [
        "def greet_with(name, location):\n",
        "  print(\"Hello \" + name)\n",
        "  print(\"What is it like in \" + location + \"? \")\n",
        "greet_with(\"Anne\", \"Germany\")"
      ]
    },
    {
      "cell_type": "code",
      "execution_count": null,
      "metadata": {
        "id": "BgbetzL5ualP"
      },
      "outputs": [],
      "source": [
        "def greet_with(name, location):\n",
        "  print(\"Hello \" + name)\n",
        "  print(\"What is it like in \" + location + \"? \")\n",
        "greet_with(location=\"Germany\", name=\"Anne\")"
      ]
    },
    {
      "cell_type": "code",
      "execution_count": null,
      "metadata": {
        "id": "bgXqzBvKuniJ"
      },
      "outputs": [],
      "source": [
        "def calculate_love_score():\n",
        "  name1 = input(\"What is your name? \\n\")\n",
        "  name2 = input(\"What is their name? \\n\")\n",
        "  combined_names = name1 + name2\n",
        "  lower_names = combined_names.lower()\n",
        "  t = lower_names.count(\"t\")\n",
        "  r = lower_names.count(\"r\")\n",
        "  u = lower_names.count(\"u\")\n",
        "  e = lower_names.count(\"e\")\n",
        "  true = t + r + u + e\n",
        "  l = lower_names.count(\"l\")\n",
        "  o = lower_names.count(\"o\")\n",
        "  v = lower_names.count(\"v\")\n",
        "  e = lower_names.count(\"e\")\n",
        "  love = l + o + v + e\n",
        "  love_score = int(str(true) + str(love))\n",
        "  print(love_score)\n",
        "calculate_love_score()"
      ]
    },
    {
      "cell_type": "code",
      "execution_count": null,
      "metadata": {
        "id": "CFUO2BXDxscL"
      },
      "outputs": [],
      "source": [
        "!pip install art\n",
        "import art\n",
        "\n",
        "\n",
        "alphabet = ['a', 'b', 'c', 'd', 'e', 'f', 'g', 'h', 'i', 'j', 'k', 'l', 'm', 'n', 'o', 'p', 'q', 'r', 's', 't', 'u', 'v', 'w', 'x', 'y', 'z']\n",
        "\n",
        "direction = input(\"Type 'encode' to encrypt, type 'decode' to decrypt:\\n\")\n",
        "text = input(\"Type your message:\\n\").lower()\n",
        "shift = int(input(\"Type the shift number:\\n\"))\n",
        "\n",
        "\n",
        "\n",
        "def caesar(original_text, shift_amount, encode_or_decode):\n",
        "    output_text = \"\"\n",
        "    if encode_or_decode == \"decode\":\n",
        "        shift_amount *= -1\n",
        "    for letter in original_text:\n",
        "      if letter != alphabet:\n",
        "          output_text += letter\n",
        "      else:\n",
        "        shifted_position = alphabet.index(letter) + shift_amount\n",
        "        shifted_position %= len(alphabet)\n",
        "        output_text += alphabet[shifted_position]\n",
        "    print(f\"The {encode_or_decode}d text is {output_text}\")\n",
        "should_continue = True\n",
        "\n",
        "while should_continue:\n",
        "\n",
        "    direction = input(\"Type 'encode' to encrypt, type 'decode' to decrypt:\\n\")\n",
        "    text = input(\"Type your message:\\n\").lower()\n",
        "    shift = int(input(\"Type the shift number:\\n\"))\n",
        "\n",
        "    caesar(original_text =text, shift_amount=shift, encode_or_decode=direction )\n",
        "    Restart = input(\"Do you want to restart the program: Type 'Yes' or 'No'\").capitalize()\n",
        "    if Restart == 'No':\n",
        "      should_continue = False\n",
        "      print(\"Goodbye\")\n",
        "\n",
        "\n",
        "\n",
        "\n"
      ]
    },
    {
      "cell_type": "code",
      "execution_count": null,
      "metadata": {
        "id": "TZp6RHuO_Y1_"
      },
      "outputs": [],
      "source": [
        "(alphabet = ['a', 'b', 'c', 'd', 'e', 'f', 'g', 'h', 'i', 'j', 'k', 'l', 'm', 'n', 'o', 'p', 'q', 'r', 's', 't', 'u', 'v', 'w', 'x', 'y', 'z']\n",
        "\n",
        "direction = input(\"Type 'encode' to encrypt, type 'decode' to decrypt:\\n\")\n",
        "text = input(\"Type your message:\\n\").lower()\n",
        "shift = int(input(\"Type the shift number:\\n\"))\n",
        "\n",
        "# Caesar Cipher Function\n",
        "def caesar(original_text, shift_amount, direction):\n",
        "    cipher_text = \"\"\n",
        "    for letter in original_text:\n",
        "        if letter in alphabet:\n",
        "            # Find the position of the letter\n",
        "            position = alphabet.index(letter)\n",
        "            if direction == \"encode\":\n",
        "                # Shift forward for encoding\n",
        "                shifted_position = (position + shift_amount) % len(alphabet)\n",
        "            elif direction == \"decode\":\n",
        "                # Shift backward for decoding\n",
        "                shifted_position = (position - shift_amount) % len(alphabet)\n",
        "            # Add the new letter to cipher_text\n",
        "            cipher_text += alphabet[shifted_position]\n",
        "        else:\n",
        "            # Keep any non-alphabet characters unchanged\n",
        "            cipher_text += letter\n",
        "    print(f\"The {direction}d text is: {cipher_text}\")\n",
        "\n",
        "# Call the Caesar cipher function\n",
        "caesar(original_text=text, shift_amount=shift, direction=direction)\n"
      ]
    },
    {
      "cell_type": "code",
      "execution_count": null,
      "metadata": {
        "id": "wtKjTr3M3FdD"
      },
      "outputs": [],
      "source": [
        "dict ={\n",
        "      \"Bug\": \"An error in a program that prevents the program from running as expected.\",\n",
        "      \"Function\": \"A piece of code that you can easily call over and over again.\",\n",
        "       }"
      ]
    },
    {
      "cell_type": "code",
      "execution_count": null,
      "metadata": {
        "id": "yHyrZv5G64PY"
      },
      "outputs": [],
      "source": [
        "for key, values in dict.items():\n",
        "  print(key +\":\",values)"
      ]
    },
    {
      "cell_type": "code",
      "execution_count": null,
      "metadata": {
        "id": "YGLG6vC03VRp"
      },
      "outputs": [],
      "source": [
        "print(dict[\"Bug\"])"
      ]
    },
    {
      "cell_type": "code",
      "execution_count": null,
      "metadata": {
        "id": "Q5Cq2JcO6GyM"
      },
      "outputs": [],
      "source": [
        "dict[\"Loop\"] = \"The action of doing something over and over again.\"\n",
        "print(dict)"
      ]
    },
    {
      "cell_type": "code",
      "execution_count": null,
      "metadata": {
        "id": "_UMFDocl6oVp"
      },
      "outputs": [],
      "source": [
        "dict ={}\n",
        "print(dict)"
      ]
    },
    {
      "cell_type": "code",
      "execution_count": null,
      "metadata": {
        "id": "MZwQXg-97q22"
      },
      "outputs": [],
      "source": [
        "# Edit an item in a dictionary\n",
        "dict[\"Bug\"] = \"A moth in your computer.\"\n",
        "print(dict)"
      ]
    },
    {
      "cell_type": "code",
      "execution_count": null,
      "metadata": {
        "id": "WinTi5oL94-T"
      },
      "outputs": [],
      "source": [
        "#Loop through a dictionary\n",
        "for thing in dict:\n",
        "  print(thing)"
      ]
    },
    {
      "cell_type": "code",
      "execution_count": null,
      "metadata": {
        "id": "Z4r-Hy9u-caU"
      },
      "outputs": [],
      "source": [
        "print(dict[\"Bug\"]) #Prints what's inside the bug, that is its values"
      ]
    },
    {
      "cell_type": "code",
      "execution_count": null,
      "metadata": {
        "id": "uHAJTCBA-iXz"
      },
      "outputs": [],
      "source": [
        "for key in dict:\n",
        "  print(key)\n",
        "  print(dict[key])"
      ]
    },
    {
      "cell_type": "code",
      "execution_count": null,
      "metadata": {
        "id": "qexbcDy3Aczq"
      },
      "outputs": [],
      "source": [
        "student_scores = {\n",
        "    'Harry': 88,\n",
        "    'Ron': 78,\n",
        "    'Hermione': 95,\n",
        "    'Draco': 75,\n",
        "    'Neville': 60\n",
        "}\n",
        "print(student_scores[keys])"
      ]
    },
    {
      "cell_type": "code",
      "execution_count": null,
      "metadata": {
        "id": "jhOEDN4EAqWv"
      },
      "outputs": [],
      "source": [
        "print(student_grades)"
      ]
    },
    {
      "cell_type": "code",
      "execution_count": null,
      "metadata": {
        "colab": {
          "base_uri": "https://localhost:8080/"
        },
        "id": "TKUmaWK1CRbQ",
        "outputId": "e5d1d6dd-be7c-4d4a-b643-33498faf4700"
      },
      "outputs": [
        {
          "name": "stdout",
          "output_type": "stream",
          "text": [
            "{'Anne': 85, 'Bob': 92, 'Charlie': 77, 'Diana': 65, 'Eva': 58, 'Anita': 99}\n",
            "{'Anne': 'B', 'Bob': 'A', 'Charlie': 'C', 'Diana': 'D', 'Eva': 'F', 'Anita': 'A'}\n"
          ]
        }
      ],
      "source": [
        "\n",
        "\n",
        "# Do not modify this student_scores dictionary\n",
        "student_scores = {\n",
        "    \"Anne\": 85,\n",
        "    \"Bob\": 92,\n",
        "    \"Charlie\": 77,\n",
        "    \"Diana\": 65,\n",
        "    \"Eva\": 58\n",
        "}\n",
        "student_scores[\"Anita\"] = 99\n",
        "print(student_scores)\n",
        "\n",
        "# Create an empty dictionary to hold student grades\n",
        "student_grades = {}\n",
        "\n",
        "# Loop through the student_scores dictionary\n",
        "for student, score in student_scores.items():\n",
        "\n",
        "    # Assign grades based on the score\n",
        "    if score >= 90:\n",
        "        student_grades[student] = 'A'\n",
        "    elif score >= 80:\n",
        "        student_grades[student] = 'B'\n",
        "    elif score >= 70:\n",
        "        student_grades[student] = 'C'\n",
        "    elif score >= 60:\n",
        "        student_grades[student] = 'D'\n",
        "    else:\n",
        "        student_grades[student] = 'F'\n",
        "\n",
        "# Print out the student_grades dictionary\n",
        "print(student_grades)"
      ]
    },
    {
      "cell_type": "code",
      "execution_count": null,
      "metadata": {
        "colab": {
          "base_uri": "https://localhost:8080/"
        },
        "id": "ABYFqk8_E2Vo",
        "outputId": "05044638-62d6-4a4a-d4b1-e52c55e7645a"
      },
      "outputs": [
        {
          "name": "stdout",
          "output_type": "stream",
          "text": [
            "Lille\n"
          ]
        }
      ],
      "source": [
        "capitals = {\n",
        "    \"France\": \"Paris\",\n",
        "    \"Germany\": \"Berlin\",\n",
        "}\n",
        "\n",
        "# Nested List in Dictionary\n",
        "\n",
        "travel_log = {\n",
        "    \"France\": [\"Paris\", \"Lille\", \"Dijon\"],\n",
        "    \"Germany\": [\"Berlin\", \"Hamburg\", \"Stuttgart\"],\n",
        "}\n",
        "print(travel_log[\"France\"][1])"
      ]
    },
    {
      "cell_type": "code",
      "execution_count": null,
      "metadata": {
        "colab": {
          "base_uri": "https://localhost:8080/"
        },
        "id": "4TVihv5wGEqr",
        "outputId": "43dd0920-e6bf-4d69-ad23-5db8ac44b696"
      },
      "outputs": [
        {
          "name": "stdout",
          "output_type": "stream",
          "text": [
            "D\n"
          ]
        }
      ],
      "source": [
        "nested_list = [\"A\", \"B\", [\"C\", \"D\"]]\n",
        "print(nested_list[2][1])"
      ]
    },
    {
      "cell_type": "code",
      "execution_count": null,
      "metadata": {
        "id": "XzKBRENzkHPZ"
      },
      "outputs": [],
      "source": [
        "travel_log = {\n",
        "    \"France\": {\n",
        "        \"cities_visited\": [\"Paris\", \"Lille\", \"Dijon\"],\n",
        "        \"total_visits\":12\n",
        "    },\n",
        "    \"Germany\": {\n",
        "     \"cities_visited\": [\"Berlin\", \"Hamburg\", \"Stuttgart\"],\n",
        "     \"total_visits\":5\n",
        "    },\n",
        "}"
      ]
    },
    {
      "cell_type": "code",
      "execution_count": null,
      "metadata": {
        "colab": {
          "base_uri": "https://localhost:8080/"
        },
        "id": "8qesSnhzo3sq",
        "outputId": "455e2d5b-ac6a-47f3-da62-fb13f12b9996"
      },
      "outputs": [
        {
          "name": "stdout",
          "output_type": "stream",
          "text": [
            "Stuttgart\n"
          ]
        }
      ],
      "source": [
        "print(travel_log[\"Germany\"][\"cities_visited\"][2])"
      ]
    },
    {
      "cell_type": "code",
      "execution_count": null,
      "metadata": {
        "colab": {
          "background_save": true,
          "base_uri": "https://localhost:8080/"
        },
        "id": "CboU9Ln7rPnl",
        "outputId": "f20461d9-9707-4319-a94f-53b46eeb0cb5"
      },
      "outputs": [
        {
          "name": "stdout",
          "output_type": "stream",
          "text": [
            "Blind Auction Project\n"
          ]
        }
      ],
      "source": [
        "print(\"Blind Auction Project\")\n",
        "bid = int(1000)\n",
        "name = input(\"What's your name? \")\n",
        "biddings = int(input(\"How much do you intend to bid? \"))\n",
        "while biddings < bid:\n",
        "  name = input(\"What's your name? \")\n",
        "  biddings = int(input(\"How much do you intend to bid? \"))\n",
        "  attempts = 5\n",
        "  attempts -=1\n",
        "if attempts == 0:\n",
        "      print(\"You have no more attempts\")\n",
        "if biddings > bid:\n",
        "    print(\"You have won the game with \" + str(biddings))\n",
        "\n"
      ]
    },
    {
      "cell_type": "code",
      "execution_count": null,
      "metadata": {
        "id": "ZbCvNckHxk6C"
      },
      "outputs": [],
      "source": [
        "print(\"Blind Auction Project\")\n",
        "\n",
        "# Initial bid to beat\n",
        "bid = 1000\n",
        "\n",
        "# Number of attempts allowed\n",
        "attempts = 5\n",
        "\n",
        "# Loop until user runs out of attempts\n",
        "while attempts > 0:\n",
        "    name = input(\"What's your name? \")\n",
        "    biddings = int(input(\"How much do you intend to bid? \"))\n",
        "\n",
        "    if biddings > bid:\n",
        "        print(f\"Congratulations {name}, you have won the game with a bid of ${biddings}!\")\n",
        "        break  # End the loop since they've won\n",
        "    else:\n",
        "        attempts -= 1\n",
        "        if attempts > 0:\n",
        "            print(f\"Your bid is too low. You have {attempts} attempts remaining.\")\n",
        "        else:\n",
        "            print(\"You have no more attempts left. Game over!\")\n"
      ]
    },
    {
      "cell_type": "code",
      "execution_count": null,
      "metadata": {
        "id": "9xF0AxxM3xbJ"
      },
      "outputs": [],
      "source": [
        "\n",
        "# Dictionary to store bids\n",
        "bid = {}\n",
        "\n",
        "# Flag to control the loop\n",
        "bidding_continues = True\n",
        "\n",
        "while bidding_continues:\n",
        "    # Input bidder's name and bid amount\n",
        "    name = input(\"What is your name? \")\n",
        "    biddings = int(input(\"What bid price are you giving? $\"))\n",
        "    bid[name] = biddings  # Store the bid with the bidder's name\n",
        "\n",
        "    # Ask if there are more bidders\n",
        "    more_bidders = input(\"Are there any more bidders? Type 'Yes' or 'No': \").lower()\n",
        "\n",
        "    if more_bidders == 'no':\n",
        "        bidding_continues = False  # End the loop if no more bidders\n",
        "    elif more_bidders == 'yes':\n",
        "        print(\"\\n\" * 2)  # Clear the screen (this just creates empty lines)\n",
        "    else:\n",
        "        print(\"Invalid input. Exiting the auction.\")\n",
        "        bidding_continues = False\n",
        "\n",
        "# Find the highest bid\n",
        "highest_bidder = max(bid, key=bid.get)\n",
        "highest_bid = bid[highest_bidder]\n",
        "\n",
        "# Output the winner\n",
        "print(f\"\\nThe winner is {highest_bidder} with a bid of ${highest_bid}!\")"
      ]
    },
    {
      "cell_type": "code",
      "execution_count": null,
      "metadata": {
        "id": "w3Le_M0XJgah"
      },
      "outputs": [],
      "source": [
        "import random\n",
        "\n",
        "print(\"Rock-Paper-Scissors Game\")\n",
        "name = input(\"What is your name? \")\n",
        "print(f\"Welcome, {name}!\")\n",
        "\n",
        "# Get user choice and convert it to title case for consistency\n",
        "user_choice = input(\"Please pick one of the following: Type 'Rock', 'Paper', or 'Scissors': \").title()\n",
        "choices = ['Rock', 'Paper', 'Scissors']\n",
        "computer_choice = random.choice(choices)\n",
        "\n",
        "print(f\"{name}, you chose: {user_choice}\")\n",
        "print(f\"The computer chose: {computer_choice}\")\n",
        "\n",
        "# Check for valid user input\n",
        "if user_choice not in choices:\n",
        "    print(\"Invalid input! Please choose Rock, Paper, or Scissors.\")\n",
        "else:\n",
        "    # Check the outcome\n",
        "    if user_choice == computer_choice:\n",
        "        print(f\"All the same, {name}!\")\n",
        "    elif user_choice == 'Rock':\n",
        "        if computer_choice == 'Paper':\n",
        "            print(f\"{name}, you lost! Paper covers Rock.\")\n",
        "        else:\n",
        "            print(f\"{name}, you won! Rock crushes Scissors.\")\n",
        "    elif user_choice == 'Paper':\n",
        "        if computer_choice == 'Scissors':\n",
        "            print(f\"{name}, you lost! Scissors cut Paper.\")\n",
        "        else:\n",
        "            print(f\"{name}, you won! Paper covers Rock.\")\n",
        "    elif user_choice == 'Scissors':\n",
        "        if computer_choice == 'Rock':\n",
        "            print(f\"{name}, you lost! Rock crushes Scissors.\")\n",
        "        else:\n",
        "            print(f\"{name}, you won! Scissors cut Paper.\")\n"
      ]
    },
    {
      "cell_type": "code",
      "execution_count": null,
      "metadata": {
        "id": "yjOXyYj_6BQM"
      },
      "outputs": [],
      "source": [
        "def my_function():\n",
        "  result = 3 * 2\n",
        "  return result\n",
        "output = my_function()\n",
        "print(output)"
      ]
    },
    {
      "cell_type": "code",
      "execution_count": null,
      "metadata": {
        "id": "or887fXpBg1G"
      },
      "outputs": [],
      "source": [
        "def myria(f_name, l_name):\n",
        "  formatted_f_name = f_name.title()\n",
        "  formatted_l_name = l_name.title()\n",
        "\n",
        "myria(f_name:\"anne\", l_name:\"MULLER\")\n"
      ]
    },
    {
      "cell_type": "code",
      "execution_count": null,
      "metadata": {
        "id": "cCwSl2JvGFNv"
      },
      "outputs": [],
      "source": [
        "def myria(f_name, l_name):\n",
        "    formatted_f_name = f_name.title()\n",
        "    formatted_l_name = l_name.title()\n",
        "    return f\"{formatted_f_name} {formatted_l_name}\"\n",
        "\n",
        "# Correct function call with '='\n",
        "formatted_string = myria(\"AnNe\", \"ADUDU\")\n",
        "print(formatted_string)\n"
      ]
    },
    {
      "cell_type": "code",
      "execution_count": null,
      "metadata": {
        "id": "HngEZJNtJ-Lz"
      },
      "outputs": [],
      "source": [
        "class Person:\n",
        "    def __init__(self, name, age):  # Constructor\n",
        "        self.name = name  # Instance variable 'name'\n",
        "        self.age = age  # Instance variable 'age'\n",
        "\n",
        "    def greet(self):  # Instance method\n",
        "        print(f\"Hello, my name is {self.name} and I am {self.age} years old.\")  # Accessing instance variables\n",
        "\n",
        "# Creating an instance (object) of the class 'Person'\n",
        "person1 = Person(\"Anne\", 25)\n",
        "\n",
        "# Calling the 'greet' method for 'person1'\n",
        "person1.greet()\n"
      ]
    },
    {
      "cell_type": "code",
      "execution_count": null,
      "metadata": {
        "id": "j3-UWz6tLbLR"
      },
      "outputs": [],
      "source": [
        "def function_1(text):\n",
        "  return text + text\n",
        "function_1(len(\"Anne\"))"
      ]
    },
    {
      "cell_type": "code",
      "execution_count": null,
      "metadata": {
        "id": "UPGC35XAMAhC"
      },
      "outputs": [],
      "source": [
        "def function_2(text):\n",
        "  return text.title()\n"
      ]
    },
    {
      "cell_type": "code",
      "execution_count": null,
      "metadata": {
        "id": "0btP2STvMuyd"
      },
      "outputs": [],
      "source": [
        "def funtion_1(text):\n",
        "  return text + text\n",
        "output = function_2(function_1(\"hello\"))\n",
        "print(output)"
      ]
    },
    {
      "cell_type": "code",
      "execution_count": null,
      "metadata": {
        "id": "9Q2-FJXaNwha"
      },
      "outputs": [],
      "source": [
        "def format_name(f_name, l_name):\n",
        "  if f_name == \"\" or l_name == \"\":\n",
        "    return \"You did not provide valid inputs\"\n",
        "\n",
        "  formatted_f_name = f_name.title()\n",
        "  formatted_l_name = l_name.title()\n",
        "  return f\"Result: {formatted_f_name} {formatted_l_name}\"\n",
        "\n",
        "\n",
        "print(format_name(input(\"What is your first name?\"), input(\"What is your last name?\")))"
      ]
    },
    {
      "cell_type": "code",
      "execution_count": null,
      "metadata": {
        "id": "dHyGZgf-SC3T"
      },
      "outputs": [],
      "source": [
        "def is_leap_year(year):\n",
        "    # Check if the year is a leap year\n",
        "    if (year % 4 == 0 and not year % 100 == 0) or (year % 400 == 0):\n",
        "        return f\"{year} is a leap year\"\n",
        "    else:\n",
        "        return f\"{year} is not a leap year\"\n",
        "\n",
        "# Ask the user for the year\n",
        "year = int(input(\"What year please?: \"))\n",
        "\n",
        "# Call the function and print the result\n",
        "print(is_leap_year(year))\n",
        "\n"
      ]
    },
    {
      "cell_type": "code",
      "execution_count": null,
      "metadata": {
        "id": "QKReEWDYVAu_"
      },
      "outputs": [],
      "source": [
        "#Docstrings\n",
        "def format(f_name, l_name):\n",
        "  \"\"\"Take a first and last name and format it to return the title version of the name\"\"\"\n",
        "  formatted_f_name = f_name.title()\n",
        "  formatted_l_name = l_name.title()\n",
        "  return f\"{formatted_f_name} {formatted_l_name}\"\n",
        "\n",
        "formatted_name = format_name(f_name = \"AnNE\", l_name=\"ADUDU\")\n",
        "length = len(formatted_name)"
      ]
    },
    {
      "cell_type": "code",
      "execution_count": null,
      "metadata": {
        "id": "sLDXcsrEX8t3"
      },
      "outputs": [],
      "source": [
        "print(\"Calculator Project\")\n",
        "def cal(num1, num2, operation):\n",
        "  if operation == \"+\":\n",
        "    result = num1 + num2\n",
        "    return f\"{num1} + {num2} is {result}\"\n",
        "  elif operation == \"-\":\n",
        "    result= num1 - num2\n",
        "    return f\"{num1} - {num2} is {result}\"\n",
        "  elif operation == \"*\":\n",
        "    result = num1 * num2\n",
        "    return f\"{num1} * {num2} is {result}\"\n",
        "  elif operation == \"/\":\n",
        "    result= num1 / num2\n",
        "    return f\"{num1} / {num2} is {result}\"\n",
        "while True:\n",
        "  num1 = int(input(\"Please enter a number: \"))\n",
        "  operation = input('Please enter an operation: \"+\", \"-\", \"/\", \"*\" ')\n",
        "  num2 = int(input(\"Please enter another number: \"))\n",
        "  if operation == \"+\":\n",
        "    result = num1 + num2\n",
        "    print(f\"{num1} + {num2} is {result}\")\n",
        "  elif operation == \"-\":\n",
        "    result= num1 - num2\n",
        "    print(f\"{num1} - {num2} is {result}\")\n",
        "  elif operation == \"*\":\n",
        "    result = num1 * num2\n",
        "    print(f\"{num1} * {num2} is {result}\")\n",
        "  elif operation == \"/\":\n",
        "    result= num1 / num2\n",
        "    print(f\"{num1} / {num2} is {result}\")\n",
        "  another_calculation = input(\"Do you want to perform another calculation? Type 'yes' or 'no': \")\n",
        "  if another_calculation == \"no\":\n",
        "    break\n",
        "  else:\n",
        "    if another_calculation == \"yes\":\n",
        "      num1 = result\n",
        "      operation = input('Please enter an operation: \"+\", \"-\", \"/\", \"*\" ')\n",
        "      num2 = int(input(\"Please enter another number: \"))\n",
        "      if operation == \"+\":\n",
        "        result = num1 + num2\n",
        "        print(f\"{num1} + {num2} is {result}\")\n",
        "      elif operation == \"-\":\n",
        "        result= num1 - num2\n",
        "        print(f\"{num1} - {num2} is {result}\")\n",
        "      elif operation == \"*\":\n",
        "        result = num1 * num2\n",
        "        print(f\"{num1} * {num2} is {result}\")\n",
        "      elif operation == \"/\":\n",
        "        result= num1 / num2\n",
        "        print(f\"{num1} / {num2} is {result}\")\n",
        "\n",
        "      else:\n",
        "        print(\"Invalid input. Exiting the calculator.\")\n",
        "        break\n",
        "\n",
        "\n",
        "print(cal(num1, num2, operation))\n",
        "\n"
      ]
    },
    {
      "cell_type": "code",
      "execution_count": null,
      "metadata": {
        "id": "XT69NIzweY9q"
      },
      "outputs": [],
      "source": [
        "print(\"Calculator Project\")\n",
        "\n",
        "def cal(num1, num2, operation):\n",
        "  if operation == \"+\":\n",
        "    return num1 + num2\n",
        "  elif operation == \"-\":\n",
        "    return num1 - num2\n",
        "  elif operation == \"*\":\n",
        "    return num1 * num2\n",
        "  elif operation == \"/\":\n",
        "    return num1 / num2\n",
        "  else:\n",
        "    return \"Invalid operation.\"\n",
        "\n",
        "while True:\n",
        "  num1 = int(input(\"Please enter a number: \"))\n",
        "  operation = input('Please enter an operation: \"+\", \"-\", \"/\", \"*\" ')\n",
        "  num2 = int(input(\"Please enter another number: \"))\n",
        "\n",
        "  result = cal(num1, num2, operation)\n",
        "  print(f\"The result of {num1} {operation} {num2} is: {result}\")\n",
        "\n",
        "  another_calculation = input(\"Do you want to perform another calculation? Type 'yes' or 'no': \")\n",
        "  if another_calculation == \"no\":\n",
        "    break\n"
      ]
    },
    {
      "cell_type": "code",
      "execution_count": null,
      "metadata": {
        "id": "TkEeihEDOWOd"
      },
      "outputs": [],
      "source": [
        "def add(n1, n2):\n",
        "  return n1 + n2\n",
        "def subtract(n1, n2):\n",
        "  return n1 - n2\n",
        "def multiply(n1, n2):\n",
        "  return n1 * n2\n",
        "def divide(n1, n2):\n",
        "  return n1 / n2\n",
        "\n",
        "operations = {\n",
        "  \"+\": add,\n",
        "  \"-\": subtract,\n",
        "  \"*\": multiply,\n",
        "  \"/\": divide\n",
        "}\n",
        "\n",
        "should_accumulate = True\n",
        "num1 = int(input(\"Please enter a number: \"))\n",
        "\n",
        "while should_accumulate:\n",
        "  for symbol in operations:\n",
        "    print(symbol)\n",
        "  operation = input('Please enter an operation: \"+\", \"-\", \"/\", \"*\" ')\n",
        "  num2 = int(input(\"Please enter another number: \"))\n",
        "  answer = operations[operation](num1, num2)\n",
        "  print(f\"{num1} {operation} {num2} = {answer}\")\n",
        "  choice = input(\"Do you want to perform another calculation? Type 'yes' or 'no': \")\n",
        "  if choice == \"yes\":\n",
        "    num1 = answer\n",
        "  else:\n",
        "    should_accumulate = False"
      ]
    },
    {
      "cell_type": "code",
      "execution_count": null,
      "metadata": {
        "id": "yMYsPpg1TgOe"
      },
      "outputs": [],
      "source": [
        "import random\n",
        "\n",
        "print(\"BlackJack!.. Get ready for me!\")\n",
        "Your_cards = []\n",
        "Computer_cards = []\n",
        "\n",
        "# Start the game by dealing one card to both player and computer\n",
        "def start_game():\n",
        "    Your_cards.append(random.randint(1, 11))  # Deal card to player\n",
        "    Your_cards.append(random.randint(1, 11))  # Deal card to player\n",
        "    Computer_cards.append(random.randint(1, 11))  # Deal card to computer\n",
        "    Computer_cards.append(random.randint(1, 11))  # Deal card to computer\n",
        "    print(f\"Your cards: {Your_cards}\")\n",
        "    print(f\"Computer's first card: {Computer_cards[0]}\")\n",
        "\n",
        "# Function to calculate total of a hand\n",
        "def calculate_total(cards):\n",
        "    return sum(cards)\n",
        "\n",
        "# Main game loop\n",
        "def game():\n",
        "    start_game()\n",
        "    while True:\n",
        "        # Show player's total so far\n",
        "        player_total = calculate_total(Your_cards)\n",
        "        print(f\"Your current total is: {player_total}\")\n",
        "\n",
        "        if player_total > 21:\n",
        "            print(\"You went over 21! You lose!\")\n",
        "            break\n",
        "\n",
        "        choice = input(\"Do you want another card? Type 'yes' or 'no': \").lower()\n",
        "\n",
        "        if choice == \"yes\":\n",
        "            Your_cards.append(random.randint(1, 11))  # Add another card to player\n",
        "            print(f\"Your cards: {Your_cards}\")\n",
        "        elif choice == \"no\":\n",
        "            # Computer's turn to play\n",
        "            computer_total = calculate_total(Computer_cards)\n",
        "            print(f\"Computer's cards: {Computer_cards}\")\n",
        "            print(f\"Computer's total: {computer_total}\")\n",
        "\n",
        "            if computer_total > 21:\n",
        "                print(\"Computer went over 21! You win!\")\n",
        "            elif computer_total > player_total:\n",
        "                print(\"Computer wins!\")\n",
        "            else:\n",
        "                print(\"You win!\")\n",
        "            break\n",
        "\n",
        "game()\n"
      ]
    },
    {
      "cell_type": "code",
      "execution_count": null,
      "metadata": {
        "id": "epwGvzYpcCgA"
      },
      "outputs": [],
      "source": [
        "import random\n",
        "\n",
        "def deal_card():\n",
        "  \"\"\"Returns a random card from the deck.\"\"\"\n",
        "  cards = [11, 2, 3, 4, 5, 6, 7, 8, 9, 10, 10, 10, 10]\n",
        "  card = random.choice(cards)\n",
        "  return card\n",
        "\n",
        "\n",
        "\n",
        "def calculate_score(cards):\n",
        "  \"\"\"Take a list of cards and return the score calculated from the cards\"\"\"\n",
        "  if sum(cards)== 21 and len(cards) == 2:\n",
        "    return 0\n",
        "\n",
        "\n",
        "  if 11 in cards and sum(cards) > 21:\n",
        "    cards.remove(11)\n",
        "    cards.append(1)\n",
        "  return sum(cards)\n",
        "\n",
        "\n",
        "\n",
        "def compare(u_score, c_score):\n",
        "    if u_score == c_score:\n",
        "        return \"Draw\"\n",
        "    elif c_score == 0:\n",
        "        return \"Lose, opponent has Blackjack\"\n",
        "    elif u_score == 0:\n",
        "        return \"Win with a Blackjack\"\n",
        "    elif u_score > 21:\n",
        "        return \"You went over. You lose\"\n",
        "    elif co_score > 21:\n",
        "        return \"Opponent went over. You win\"\n",
        "    elif u_score > c_score:\n",
        "        return \"You win\"\n",
        "    else:\n",
        "        return \"You lose\"\n",
        "\n",
        "def play_game():\n",
        "    user_cards = []\n",
        "    computer_cards = []\n",
        "    computer_score = -1\n",
        "    user_score = -1\n",
        "    is_game_over = False\n",
        "\n",
        "    for _ in range(2):\n",
        "      user_cards.append(deal_card())\n",
        "      computer_cards.append(deal_card())\n",
        "\n",
        "    while not is_game_over:\n",
        "        user_score = calculate_score(user_cards)\n",
        "        computer_score = calculate_score(computer_cards)\n",
        "        print(f\"Your cards: {user_cards}, current score: {user_score}\")\n",
        "        print(f\"Computer's first card: {computer_cards[0]}\")\n",
        "\n",
        "        if user_score == 0 or computer_score == 0 or user_score > 21:\n",
        "          is_game_over = True\n",
        "        else:\n",
        "          user_should_deal = input(\"Type 'y' to get another card, type 'n' to pass: \")\n",
        "          if user_should_deal == \"y\":\n",
        "              user_cards.append(deal_card())\n",
        "          else:\n",
        "            is_game_over = True\n",
        "\n",
        "    while computer_score != 0 and computer_score < 17:\n",
        "        computer_cards.append(deal_card())\n",
        "        computer_score = calculate_score(computer_cards)\n",
        "\n",
        "    print(f\"Your final hand: {user_cards}, final score: {user_score}\")\n",
        "    print(f\"Computer's final hand: {computer_cards}, final score: {computer_score}\")\n",
        "    print(compare(user_score, computer_score))\n",
        "\n",
        "\n",
        "    while input(\"Do you want to play a game of Blackjack? Type 'y' or 'n'\") == \"y\":\n",
        "      print(\"\\n\" * 20)\n",
        "play_game()\n",
        "\n",
        "\n",
        "\n",
        "\n",
        "\n",
        "\n",
        "\n",
        "\n",
        "\n"
      ]
    },
    {
      "cell_type": "code",
      "execution_count": null,
      "metadata": {
        "id": "-Tj67UL6d_F0"
      },
      "outputs": [],
      "source": [
        "enemies = 1\n",
        "\n",
        "def increase_enemies():\n",
        "  enemies = 2\n",
        "  print(f\"enemies inside function: {enemies}\")\n",
        "\n",
        "increase_enemies()\n",
        "print(f\"enemies outside function: {enemies}\")\n",
        "\n",
        "#Local Scope\n",
        "def drink_potion():\n",
        "  potion_strength = 2\n",
        "  print(potion_strength)\n",
        "\n",
        "drink_potion()\n",
        "print(potion_strength)\n",
        "\n",
        "#Global Scope\n",
        "player_health =10\n",
        "\n",
        "\n",
        "def game():\n",
        "  def drink_potion():\n",
        "    potion_strength = 2\n",
        "    print(player_health)\n",
        "\n",
        "  drink_potion()\n",
        "print(player_health)"
      ]
    },
    {
      "cell_type": "code",
      "execution_count": null,
      "metadata": {
        "id": "yABQ06pRRCLa"
      },
      "outputs": [],
      "source": [
        "# There is no Block Scope in Python!\n",
        "\n",
        "if 3 > 2:\n",
        "  a_variable = 10\n",
        "  print(a_variable)"
      ]
    },
    {
      "cell_type": "code",
      "execution_count": null,
      "metadata": {
        "id": "yT30m5HSRtvk"
      },
      "outputs": [],
      "source": [
        "game_level = 3\n",
        "enemies = [\"Skeleton\", \"Zombie\", \"Alien\"]\n",
        "\n",
        "\n",
        "def create_enemy():\n",
        "    if game_level < 5:\n",
        "       new_enemy = enemies[0]\n",
        "    print(new_enemy)\n",
        "\n",
        "create_enemy()\n"
      ]
    },
    {
      "cell_type": "code",
      "execution_count": null,
      "metadata": {
        "id": "tfE_tIgMUasW"
      },
      "outputs": [],
      "source": [
        "print(\"Prime Number Checker!\")\n",
        "user = int(input(\"Please enter a number: \"))\n",
        "for num in range(2,user + 1):\n",
        "  if num % 2 == 0:\n",
        "    print(f\"This number {num} is not a prime number\")\n",
        "  else:\n",
        "    print(f\"This number {num} is a prime number\")"
      ]
    },
    {
      "cell_type": "code",
      "execution_count": null,
      "metadata": {
        "id": "gWpz2rxZVmjB"
      },
      "outputs": [],
      "source": [
        "print(\"Prime Number Checker!\")\n",
        "\n",
        "# Get the number from the user\n",
        "user = int(input(\"Please enter a number: \"))\n",
        "\n",
        "# Check if the number is prime\n",
        "if user > 1:  # A prime number must be greater than 1\n",
        "    for num in range(2, user):\n",
        "        if user % num == 0:  # If divisible by any number, it's not prime\n",
        "            print(f\"This number {user} is not a prime number.\")\n",
        "            break\n",
        "    else:\n",
        "        # This else corresponds to the 'for' loop. It runs only if the loop completes without finding a divisor\n",
        "        print(f\"This number {user} is a prime number.\")\n",
        "else:\n",
        "    print(f\"{user} is not a prime number.\")\n"
      ]
    },
    {
      "cell_type": "code",
      "execution_count": null,
      "metadata": {
        "id": "nD2V2Cv5Vtuq"
      },
      "outputs": [],
      "source": [
        "enemies = \"Skeleton\"\n",
        "\n",
        "def increase_enemies():\n",
        "  global enemies\n",
        "  enemies = \"Zombie\"\n",
        "  print(f\"enemies inside function: {enemies}\")\n",
        "\n",
        "increase_enemies()\n",
        "print(f\"enemies outside function: {enemies}\")"
      ]
    },
    {
      "cell_type": "code",
      "execution_count": null,
      "metadata": {
        "id": "YCCTQ3QwXxHd"
      },
      "outputs": [],
      "source": [
        "#Modify Global Scope\n",
        "\n",
        "enemies = 1\n",
        "\n",
        "def increase_enemies(enemy):\n",
        "    print(f\"enemies inside function: {enemies}\")\n",
        "    return enemy + 1\n",
        "\n",
        "\n",
        "enemies = increase_enemies(enemies)\n",
        "print(f\"enemies outside function: {enemies}\")"
      ]
    },
    {
      "cell_type": "code",
      "execution_count": null,
      "metadata": {
        "id": "dXXHujdQaOb8"
      },
      "outputs": [],
      "source": [
        "# Global Constants\n",
        "PI = 3.14159\n",
        "GOOGLE_URL = \"https://www.google.com\"\n",
        "\n",
        "def my_func():\n",
        "  print(GOOGLE_URL)\n",
        "\n",
        "my_func()"
      ]
    },
    {
      "cell_type": "code",
      "execution_count": null,
      "metadata": {
        "id": "JPTBPe2OhdJH"
      },
      "outputs": [],
      "source": [
        "import random\n",
        "!pip install art\n",
        "!pip show art\n",
        "import art\n",
        "\n",
        "# Check the available functions or attributes\n",
        "print(dir(art))\n",
        "\n",
        "from art import text2art\n",
        "\n",
        "# If logo import fails, use your custom logo\n",
        "ago = \"\"\"\n",
        " _   _                    _                    _____                         _                  _____\n",
        " | \\ | |                  | |                  / ____|                       (_)                / ____|\n",
        " |  \\| | _   _  _ __ ___  | |__    ___  _ __  | |  __  _   _   ___  ___  ___  _  _ __    __ _  | |  __   __ _  _ __ ___    ___\n",
        " | . ` || | | || '_ ` _ \\ | '_ \\  / _ \\| '__| | | |_ || | | | / _ \\/ __|/ __|| || '_ \\  / _` | | | |_ | / _` || '_ ` _ \\  / _ \\\n",
        " | |\\  || |_| || | | | | || |_) ||  __/| |    | |__| || |_| ||  __/\\__ \\\\__ \\| || | | || (_| | | |__| || (_| || | | | | ||  __/\n",
        " |_| \\_| \\__,_||_| |_| |_||_.__/  \\___||_|     \\_____| \\__,_| \\___||___/|___/|_||_| |_| \\__, |  \\_____| \\__,_||_| |_| |_| \\___\n",
        "                                                                                       __/ |\n",
        "                                                                                      |___/\n",
        "\"\"\"\n",
        "print(ago)\n",
        "\n",
        "print(\"Welcome to the Number Guessing Game!\")\n",
        "print(\"I'm thinking of a number between 1 and 100\")\n",
        "pick = random.randint(1, 100)\n",
        "choice = input(\"Choose a difficulty. type 'easy' or 'hard': \")\n",
        "if choice == 'easy':\n",
        "  attempts = 10\n",
        "elif choice == 'hard':\n",
        "  attempts == 5\n",
        "else:\n",
        "  print(\"inavlid response.. Do check the choice available there.\")\n",
        "\n",
        "while attempts > 0:\n",
        "  print(f\"You have {attempts} attempts remaining to guess the number.\")\n",
        "  guess = int(input(\"Make a guess: \"))\n",
        "  if guess == pick:\n",
        "    print(f\"You got it! The answer was {pick}\")\n",
        "    break\n",
        "  elif guess > pick:\n",
        "    print(\"Too high!\")\n",
        "  else:\n",
        "    print(\"Too low!\")\n",
        "\n",
        "  attempts -= 1\n",
        "  if attempts == 0:\n",
        "    print(f\"You are out of attempts and have {attempts} left!\")\n",
        "    break\n",
        "\n"
      ]
    },
    {
      "cell_type": "code",
      "execution_count": null,
      "metadata": {
        "id": "3Z-XuHgFpCvr"
      },
      "outputs": [],
      "source": [
        "import random\n",
        "# Uncomment the following lines if you're using this code in a Jupyter notebook\n",
        "# !pip install art\n",
        "# !pip show art\n",
        "# import art\n",
        "\n",
        "# Check the available functions or attributes\n",
        "# print(dir(art))\n",
        "\n",
        "# from art import text2art\n",
        "\n",
        "# If logo import fails, use your custom logo\n",
        "ago = \"\"\"\n",
        " _   _                    _                    _____                         _                  _____\n",
        " | \\ | |                  | |                  / ____|                       (_)                / ____|\n",
        " |  \\| | _   _  _ __ ___  | |__    ___  _ __  | |  __  _   _   ___  ___  ___  _  _ __    __ _  | |  __   __ _  _ __ ___    ___\n",
        " | . ` || | | || '_ ` _ \\ | '_ \\  / _ \\| '__| | | |_ || | | | / _ \\/ __|/ __|| || '_ \\  / _` | | | |_ | / _` || '_ ` _ \\  / _ \\\n",
        " | |\\  || |_| || | | | | || |_) ||  __/| |    | |__| || |_| ||  __/\\__ \\\\__ \\| || | | || (_| | | |__| || (_| || | | | | ||  __/\n",
        " |_| \\_| \\__,_||_| |_| |_||_.__/  \\___||_|     \\_____| \\__,_| \\___||___/|___/|_||_| |_| \\__, |  \\_____| \\__,_||_| |_| |_| \\___\n",
        "                                                                                       __/ |\n",
        "                                                                                      |___/\n",
        "\"\"\"\n",
        "print(ago)\n",
        "\n",
        "print(\"Welcome to the Number Guessing Game!\")\n",
        "print(\"I'm thinking of a number between 1 and 100\")\n",
        "pick = random.randint(1, 100)\n",
        "\n",
        "# Input validation for difficulty level\n",
        "while True:\n",
        "    choice = input(\"Choose a difficulty. Type 'easy' or 'hard': \").lower()\n",
        "    if choice == 'easy':\n",
        "        attempts = 10\n",
        "        break\n",
        "    elif choice == 'hard':\n",
        "        attempts = 5\n",
        "        break\n",
        "    else:\n",
        "        print(\"Invalid response. Please choose 'easy' or 'hard'.\")\n",
        "\n",
        "while attempts > 0:\n",
        "    print(f\"You have {attempts} attempts remaining to guess the number.\")\n",
        "    guess = int(input(\"Make a guess: \"))\n",
        "\n",
        "    if guess == pick:\n",
        "        print(f\"You got it! The answer was {pick}\")\n",
        "        break\n",
        "    elif guess > pick:\n",
        "        print(\"Too high!\")\n",
        "    else:\n",
        "        print(\"Too low\")\n",
        "\n",
        "    attempts -= 1\n",
        "\n",
        "    if attempts == 0:\n",
        "        print(f\"You are out of attempts! The correct number was {pick}.\")\n"
      ]
    },
    {
      "cell_type": "code",
      "execution_count": null,
      "metadata": {
        "id": "ABLnbFgasRIe"
      },
      "outputs": [],
      "source": [
        "import random\n",
        "\n",
        "# Function to display the logo\n",
        "def display_logo():\n",
        "    ago = \"\"\"\n",
        " _   _                    _                    _____                         _                  _____\n",
        " | \\ | |                  | |                  / ____|                       (_)                / ____|\n",
        " |  \\| | _   _  _ __ ___  | |__    ___  _ __  | |  __  _   _   ___  ___  ___  _  _ __    __ _  | |  __   __ _  _ __ ___    ___\n",
        " | . ` || | | || '_ ` _ \\ | '_ \\  / _ \\| '__| | | |_ || | | | / _ \\/ __|/ __|| || '_ \\  / _` | | | |_ | / _` || '_ ` _ \\  / _ \\\n",
        " | |\\  || |_| || | | | | || |_) ||  __/| |    | |__| || |_| ||  __/\\__ \\\\__ \\| || | | || (_| | | |__| || (_| || | | | | ||  __/\n",
        " |_| \\_| \\__,_||_| |_| |_||_.__/  \\___||_|     \\_____| \\__,_| \\___||___/|___/|_||_| |_| \\__, |  \\_____| \\__,_||_| |_| |_| \\___\n",
        "                                                                                       __/ |\n",
        "                                                                                      |___/\n",
        "\"\"\"\n",
        "    print(ago)\n",
        "\n",
        "# Function to get the difficulty level and return the number of attempts\n",
        "def set_difficulty():\n",
        "    while True:\n",
        "        choice = input(\"Choose a difficulty. Type 'easy' or 'hard': \").lower()\n",
        "        if choice == 'easy':\n",
        "            return 10\n",
        "        elif choice == 'hard':\n",
        "            return 5\n",
        "        else:\n",
        "            print(\"Invalid response. Please choose 'easy' or 'hard'.\")\n",
        "\n",
        "# Function to play the guessing game\n",
        "def play_game():\n",
        "    print(\"Welcome to the Number Guessing Game!\")\n",
        "    print(\"I'm thinking of a number between 1 and 100\")\n",
        "    pick = random.randint(1, 100)\n",
        "\n",
        "    attempts = set_difficulty()\n",
        "\n",
        "    while attempts > 0:\n",
        "        print(f\"You have {attempts} attempts remaining to guess the number.\")\n",
        "        guess = int(input(\"Make a guess: \"))\n",
        "\n",
        "        if guess == pick:\n",
        "            print(f\"You got it! The answer was {pick}\")\n",
        "            return\n",
        "        elif guess > pick:\n",
        "            print(\"Too high!\")\n",
        "        else:\n",
        "            print(\"Too low\")\n",
        "\n",
        "        attempts -= 1\n",
        "\n",
        "    print(f\"You are out of attempts! The correct number was {pick}.\")\n",
        "\n",
        "# Main function to run the game\n",
        "def main():\n",
        "    display_logo()\n",
        "    play_game()\n",
        "\n",
        "# Start the game\n",
        "main()\n"
      ]
    },
    {
      "cell_type": "code",
      "execution_count": null,
      "metadata": {
        "id": "ktjazE0q0ps0"
      },
      "outputs": [],
      "source": [
        "def my_function():\n",
        "  for i in range(1, 21):\n",
        "    if i == 20:\n",
        "      print(\"You got it\")\n",
        "my_function()"
      ]
    },
    {
      "cell_type": "code",
      "execution_count": null,
      "metadata": {
        "id": "zDRgwqlmYQdh"
      },
      "outputs": [],
      "source": [
        "print(\"Vowels and Consonants!\")\n",
        "\n",
        "vowel = [\"a\", \"e\", \"i\", \"o\", \"u\"]\n",
        "consonant = [  # List of all consonants\n",
        "    \"b\", \"c\", \"d\", \"f\", \"g\", \"h\", \"j\", \"k\", \"l\", \"m\", \"n\",\n",
        "    \"p\", \"q\", \"r\", \"s\", \"t\", \"v\", \"w\", \"x\", \"y\", \"z\"\n",
        "]\n",
        "\n",
        "def my_function(user_input):\n",
        "    countv = 0\n",
        "    countc = 0\n",
        "\n",
        "    # Loop through each character in the user input\n",
        "    for char in user_input.lower():\n",
        "        if char in vowel:\n",
        "            countv += 1  # Increment vowel count\n",
        "        elif char in consonant:\n",
        "            countc += 1  # Increment consonant count\n",
        "\n",
        "    print(f\"Vowels count: {countv}, Consonants count: {countc}\")\n",
        "\n",
        "while True:\n",
        "    user = input(\"What are you putting in today? \")\n",
        "\n",
        "    # Check if input is valid (at least one character and no special characters)\n",
        "    if user.isalpha():\n",
        "        my_function(user)  # Call function to count vowels and consonants\n",
        "    else:\n",
        "        print(\"Out of bounds! Please enter alphabetic characters only.\")\n",
        "\n",
        "    another = input(\"Do you want to input another string? Type 'yes' or 'no': \").lower()\n",
        "    if another != 'yes':\n",
        "        break\n"
      ]
    },
    {
      "cell_type": "code",
      "execution_count": null,
      "metadata": {
        "id": "GLWxs9wEao8Z"
      },
      "outputs": [],
      "source": [
        "from random import randint\n",
        "dice_images = [\"0\", \"0\", \"0\", \"0\", \"0\" \"0\"]\n",
        "dice_num = randint(a=0, b=5)\n",
        "print(dice_images[dice_num])"
      ]
    },
    {
      "cell_type": "code",
      "execution_count": null,
      "metadata": {
        "id": "Z4e1Wv2ZdK7i"
      },
      "outputs": [],
      "source": [
        "year = int(input(\"What's your year of birth? \"))\n",
        "if year > 1980 and year < 1994:\n",
        "  print(\"You are a millenial.\")\n",
        "elif year > 1994:\n",
        "  print(\"You are a Gen Z.\")"
      ]
    },
    {
      "cell_type": "code",
      "execution_count": 3,
      "metadata": {
        "id": "ALXGpNexcXsB"
      },
      "outputs": [
        {
          "name": "stdout",
          "output_type": "stream",
          "text": [
            "This is an even number.\n",
            "This is an odd number.\n"
          ]
        }
      ],
      "source": [
        "def odd_or_even(number):\n",
        "    if number % 2 == 0:\n",
        "        return \"This is an even number.\"\n",
        "    else:\n",
        "        return \"This is an odd number.\"\n",
        "print(odd_or_even(4))\n",
        "print(odd_or_even(5))"
      ]
    },
    {
      "cell_type": "code",
      "execution_count": 1,
      "metadata": {
        "colab": {
          "background_save": true,
          "base_uri": "https://localhost:8080/",
          "height": 240
        },
        "id": "Tzgl8rkAmm-I",
        "outputId": "bda6ba24-482e-4225-907f-0bfe7c8de3ec"
      },
      "outputs": [
        {
          "name": "stdout",
          "output_type": "stream",
          "text": [
            "Higher Lower Game!\n",
            "You have 5 attempts left\n",
            "You lost\n",
            "Your score is -1\n",
            "You have 4 attempts left\n",
            "You lost\n",
            "Your score is -2\n",
            "You have 3 attempts left\n",
            "computer guess the same thing, A\n",
            "You won!\n",
            "Your score is -1\n",
            "You have 2 attempts left\n",
            "computer guess the same thing, B\n",
            "You won!\n",
            "Your score is 0\n",
            "You have 1 attempts left\n",
            "computer guess the same thing, A\n",
            "You won!\n",
            "Your score is 1\n",
            "Your final score is 1\n"
          ]
        }
      ],
      "source": [
        "import random\n",
        "print(\"Higher Lower Game!\")\n",
        "score = 0\n",
        "attempts = 5\n",
        "\n",
        "def fun(user_choice, computer):\n",
        "  if user_choice == computer:\n",
        "    print(f\"computer guess the same thing, {computer}\")\n",
        "    print(\"You won!\")\n",
        "  else:\n",
        "    print(\"You lost\")\n",
        "\n",
        "while attempts > 0:\n",
        "  print(f\"You have {attempts} attempts left\")\n",
        "  choice = ('A', 'B')\n",
        "  computer = random.choice(choice)\n",
        "  userA=input(\"input 'A' option:\")\n",
        "  userB =input(\"input 'B' option:\")\n",
        "  user_choice= input(\"Which option do you think it's better?: 'A' or 'B' \")\n",
        "  fun(user_choice, computer)\n",
        "  if user_choice == computer:\n",
        "    score += 1\n",
        "    print(f\"Your score is {score}\")\n",
        "  else:\n",
        "    score -= 1\n",
        "    print(f\"Your score is {score}\")\n",
        "  attempts -=1\n",
        "  if attempts == 0:\n",
        "    print(f\"Your final score is {score}\")\n",
        "    break\n"
      ]
    }
  ],
  "metadata": {
    "colab": {
      "provenance": []
    },
    "kernelspec": {
      "display_name": "Python 3",
      "name": "python3"
    },
    "language_info": {
      "codemirror_mode": {
        "name": "ipython",
        "version": 3
      },
      "file_extension": ".py",
      "mimetype": "text/x-python",
      "name": "python",
      "nbconvert_exporter": "python",
      "pygments_lexer": "ipython3",
      "version": "3.12.2"
    }
  },
  "nbformat": 4,
  "nbformat_minor": 0
}
